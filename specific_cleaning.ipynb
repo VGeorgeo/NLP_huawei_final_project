{
 "cells": [
  {
   "cell_type": "markdown",
   "metadata": {
    "id": "C6ZPG2UCvcmF"
   },
   "source": [
    "## Install libraries"
   ]
  },
  {
   "cell_type": "code",
   "execution_count": null,
   "metadata": {
    "id": "e4g3HNbzvcmG"
   },
   "outputs": [],
   "source": [
    "#!pip install pymorphy2\n",
    "#!python -m nltk.downloader all\n",
    "#!pip install sentence_transformers\n",
    "#!pip install sentence_transformers\n",
    "#!pip install transformers\n",
    "#!pip install nltk"
   ]
  },
  {
   "cell_type": "markdown",
   "metadata": {},
   "source": [
    "## Import libraries"
   ]
  },
  {
   "cell_type": "code",
   "execution_count": 23,
   "metadata": {
    "id": "eF9fx6EevcmG"
   },
   "outputs": [],
   "source": [
    "from tqdm import tqdm\n",
    "import pandas as pd\n",
    "import numpy as np\n",
    "import re\n",
    "import string \n",
    "import nltk\n",
    "import pymorphy2\n",
    "from nltk import word_tokenize\n",
    "from nltk.corpus import stopwords\n",
    "from nltk.stem import SnowballStemmer\n",
    "from sklearn.feature_extraction.text import TfidfVectorizer\n",
    "from sklearn.metrics.pairwise import cosine_similarity\n",
    "from nltk import word_tokenize\n",
    "import pickle\n",
    "import torch\n",
    "from transformers import AutoTokenizer, AutoModel\n",
    "from sentence_transformers import SentenceTransformer\n",
    "from sklearn.metrics.pairwise import cosine_similarity\n",
    "#from deep_translator import GoogleTranslator\n",
    "tqdm.pandas()"
   ]
  },
  {
   "cell_type": "code",
   "execution_count": null,
   "metadata": {},
   "outputs": [],
   "source": [
    "import os\n",
    "import sys \n",
    "sys.path.append(os.path.abspath(\"./milib/\"))\n",
    "\n",
    "from preprocessing import add_punctuation, specific_cleaning, html_cleaning, preprocessing\n",
    "from models_fit_save_load import tfidf_fit_save, tfidf_load_model, ruBERT_download_save\n",
    "from models_fit_save_load import ruBERT_load, LaBSE_load, make_embeddings\n",
    "from recomendations import make_tfidf_recomendation, make_recomendation, make_labse_recomendation"
   ]
  },
  {
   "cell_type": "markdown",
   "metadata": {},
   "source": [
    "## Download data"
   ]
  },
  {
   "cell_type": "code",
   "execution_count": 13,
   "metadata": {
    "colab": {
     "base_uri": "https://localhost:8080/"
    },
    "id": "PeVQvY7DvcmH",
    "outputId": "e39a3c74-e7e0-4300-a029-501ffbaaef9e"
   },
   "outputs": [],
   "source": [
    "#data = pd.read_csv('../data/data_full_translation.csv')\n",
    "#data_preproc = pd.read_csv('../data/data_full_translation_preprocess.csv')"
   ]
  },
  {
   "cell_type": "code",
   "execution_count": null,
   "metadata": {},
   "outputs": [],
   "source": [
    "data_orig = pd.read_csv('../data/data_orig.csv')\n",
    "del_index = np.load('../data/del_index')\n",
    "data_orig = data_orig.drop(index=del_index)\n",
    "del_ind = data_orig[data_orig['description'].apply(lambda x: len(x)<21 if type(x)==str else True)][data_orig['description'].notna()].index\n",
    "data_orig.loc[del_ind,'description'] = np.nan"
   ]
  },
  {
   "cell_type": "markdown",
   "metadata": {
    "id": "9AQzvAdzvcmH"
   },
   "source": [
    "\n",
    "## Preprocessing"
   ]
  },
  {
   "cell_type": "markdown",
   "metadata": {
    "id": "AYUkLYctvcmI"
   },
   "source": [
    "Removing misleading rows based on preliminary data analysis."
   ]
  },
  {
   "cell_type": "code",
   "execution_count": null,
   "metadata": {
    "id": "yJB4jd0JvcmI"
   },
   "outputs": [],
   "source": [
    "#data = specific_cleaning(dataframe)"
   ]
  },
  {
   "cell_type": "markdown",
   "metadata": {
    "id": "c5M-gr_ZvcmJ"
   },
   "source": [
    "Delete most frequent html symbols"
   ]
  },
  {
   "cell_type": "code",
   "execution_count": 26,
   "metadata": {
    "id": "P_fm4GiAvcmJ"
   },
   "outputs": [],
   "source": [
    "data['title'] = data['title'].apply(lambda x: html_cleaning(x) if type(x)==str else x)\n",
    "data['description'] = data['description'].apply(lambda x: html_cleaning(x) if type(x)==str else x)"
   ]
  },
  {
   "cell_type": "markdown",
   "metadata": {
    "id": "I8PgSlJ6vcmJ"
   },
   "source": [
    "Add dot at the end of the text if there are no punctuation marks in it."
   ]
  },
  {
   "cell_type": "code",
   "execution_count": 27,
   "metadata": {
    "id": "LbWdBPFYvcmK"
   },
   "outputs": [],
   "source": [
    "data['title'] = add_punctuation(data['title'])\n",
    "data['description'] = add_punctuation(data['description'])"
   ]
  },
  {
   "cell_type": "markdown",
   "metadata": {
    "id": "u0gTbHP_vcmK"
   },
   "source": [
    "Translate text with english letters."
   ]
  },
  {
   "cell_type": "code",
   "execution_count": null,
   "metadata": {
    "id": "-tbsolY6vcmK"
   },
   "outputs": [],
   "source": [
    "def translate(text):\n",
    "    return GoogleTranslator(source='en', target='ru').translate(GoogleTranslator(source='ru', target='en').translate(seq))\n",
    "\n",
    "error_list = []\n",
    "for i in tqdm(np.arange(0,len(data))):\n",
    "    seq = data.loc[i,'title']\n",
    "    if type(seq) == str and search_eng(seq):\n",
    "       try: \n",
    "         text = translate(seq)\n",
    "         data.loc[i,'title'] = text\n",
    "       except:\n",
    "         error_list += [i]"
   ]
  },
  {
   "cell_type": "code",
   "execution_count": null,
   "metadata": {
    "id": "R1pY7J0IvcmL"
   },
   "outputs": [],
   "source": [
    "def translate(text):\n",
    "    return GoogleTranslator(source='en', target='ru').translate(GoogleTranslator(source='ru', target='en').translate(seq))\n",
    "\n",
    "\n",
    "for i in tqdm(np.arange(0,len(data))):\n",
    "    seq = data.loc[i,'description']\n",
    "    if type(seq) == str and search_eng(seq):\n",
    "       try: \n",
    "         text = translate(seq)\n",
    "         data.loc[i,'description'] = text\n",
    "       except:\n",
    "         error_list += [i]"
   ]
  },
  {
   "cell_type": "markdown",
   "metadata": {
    "id": "0mTVTRiqvcmL"
   },
   "source": [
    "Rows witn index in error_list should be translate. "
   ]
  },
  {
   "cell_type": "code",
   "execution_count": null,
   "metadata": {
    "id": "QM9jr7pKvcmL"
   },
   "outputs": [],
   "source": [
    "error_list"
   ]
  },
  {
   "cell_type": "markdown",
   "metadata": {
    "id": "nC4TCqdkvcmM"
   },
   "source": [
    "Text preprocessing: lowing, lemmatization, stemming"
   ]
  },
  {
   "cell_type": "code",
   "execution_count": null,
   "metadata": {
    "id": "DgyELVKYvcmM"
   },
   "outputs": [],
   "source": [
    "data['title'] = data['title'].progress_apply(lambda x: preprocessing(x) if type(x)==str else x)\n",
    "data['description'] = data['description'].progress_apply(lambda x: preprocessing(x) if type(x)==str else x)"
   ]
  },
  {
   "cell_type": "markdown",
   "metadata": {
    "id": "QiSAWLF8vcmM"
   },
   "source": [
    "Combine the title and description together"
   ]
  },
  {
   "cell_type": "code",
   "execution_count": 28,
   "metadata": {
    "id": "SG-_ZC1OvcmM"
   },
   "outputs": [],
   "source": [
    "data['description'] = data['description'].apply(lambda x: x if type(x)==str else '')\n",
    "data['full_text'] = data['title'] + ' ' + data['description']"
   ]
  },
  {
   "cell_type": "markdown",
   "metadata": {
    "id": "Z7DtGQxIvcmM"
   },
   "source": [
    "## Approaches"
   ]
  },
  {
   "cell_type": "markdown",
   "metadata": {
    "id": "v9GcRr7ZvcmM"
   },
   "source": [
    "### 1. TF-IDF"
   ]
  },
  {
   "cell_type": "markdown",
   "metadata": {
    "id": "udIvWWrLvcmN"
   },
   "source": [
    "Creating models and matrices for statistical analysis (tf-idf)"
   ]
  },
  {
   "cell_type": "code",
   "execution_count": null,
   "metadata": {
    "id": "PFeG9FocvcmN"
   },
   "outputs": [],
   "source": [
    "tfidf_fit_save(data['title'], 'title_tfidf_12')\n",
    "tfidf_fit_save(data['title'], 'title_tfidf_1', (1,1))\n",
    "tfidf_fit_save(data['title'], 'title_tfidf_2', (2,2))\n",
    "tfidf_fit_save(data['full_text'], 'full_tfidf_12')\n",
    "tfidf_fit_save(data['full_text'], 'full_tfidf_1', (1,1))\n",
    "tfidf_fit_save(data['full_text'], 'full_tfidf_2', (2,2))"
   ]
  },
  {
   "cell_type": "code",
   "execution_count": null,
   "metadata": {
    "id": "PRFx0u83vcmN"
   },
   "outputs": [],
   "source": [
    "tfidf_fit_save(data_preproc['title'], 'title_tfidf_12_preproc')\n",
    "tfidf_fit_save(data_preproc['title'], 'title_tfidf_1_preproc', (1,1))\n",
    "tfidf_fit_save(data_preproc['title'], 'title_tfidf_2_preproc', (2,2))\n",
    "tfidf_fit_save(data_preproc['full_text'], 'full_tfidf_12_preproc')\n",
    "tfidf_fit_save(data_preproc['full_text'], 'full_tfidf_1_preproc', (1,1))\n",
    "tfidf_fit_save(data_preproc['full_text'], 'full_tfidf_2_preproc', (2,2))"
   ]
  },
  {
   "cell_type": "markdown",
   "metadata": {
    "id": "FwOmWiysvcmN"
   },
   "source": [
    "### 2. Pretrained models"
   ]
  },
  {
   "cell_type": "markdown",
   "metadata": {
    "id": "QFOw4KrtvcmN"
   },
   "source": [
    "Download and save different types of models and tokenizers"
   ]
  },
  {
   "cell_type": "code",
   "execution_count": null,
   "metadata": {
    "id": "ZDMpfgsK9FHF"
   },
   "outputs": [],
   "source": [
    "ruBERT_download_save()"
   ]
  },
  {
   "cell_type": "markdown",
   "metadata": {
    "id": "D8ljdihHvcmN"
   },
   "source": [
    "#### 2.1 ruBERT"
   ]
  },
  {
   "cell_type": "markdown",
   "metadata": {
    "id": "vDA6Qhy-Vbrd"
   },
   "source": [
    "Make embeddings for all types of models"
   ]
  },
  {
   "cell_type": "code",
   "execution_count": null,
   "metadata": {
    "id": "V_VLIK1TAFA5"
   },
   "outputs": [],
   "source": [
    "model, tokenizer = ruBERT_load(name='ruBERT_tiny')\n",
    "model.to('cuda')\n",
    "all_embeddings = []\n",
    "for i in tqdm(range(0,len(data))):\n",
    "    all_embeddings.append(make_embeddings(data.iloc[i,:]['full_text'], model, tokenizer))\n",
    "\n",
    "np.save('../embeddings/embeddings_ruBERT_tiny', np.array(all_embeddings))\n",
    "\n",
    "all_embeddings = []\n",
    "for i in tqdm(range(0,len(data_preproc))):\n",
    "    all_embeddings.append(make_embeddings(data_preproc.iloc[i,:]['full_text'], model, tokenizer))\n",
    "\n",
    "np.save('../embeddings/embeddings_ruBERT_tiny_preproc', np.array(all_embeddings))"
   ]
  },
  {
   "cell_type": "code",
   "execution_count": null,
   "metadata": {
    "id": "Ve8sqI6lAFJg"
   },
   "outputs": [],
   "source": [
    "model, tokenizer = ruBERT_load(name='ruBERT_base')\n",
    "model.to('cuda')\n",
    "all_embeddings = []\n",
    "for i in tqdm(range(0,len(data))):\n",
    "    all_embeddings.append(make_embeddings(data.iloc[i,:]['full_text'], model, tokenizer))\n",
    "\n",
    "np.save('../embeddings/embeddings_ruBERT_base', np.array(all_embeddings))\n",
    "\n",
    "all_embeddings = []\n",
    "for i in tqdm(range(0,len(data_preproc))):\n",
    "    all_embeddings.append(make_embeddings(data_preproc.iloc[i,:]['full_text'], model, tokenizer))\n",
    "\n",
    "np.save('../embeddings/embeddings_ruBERT_base_preproc', np.array(all_embeddings))"
   ]
  },
  {
   "cell_type": "code",
   "execution_count": null,
   "metadata": {
    "colab": {
     "base_uri": "https://localhost:8080/"
    },
    "id": "DR8YbMlu2usK",
    "outputId": "359476fe-d666-43bb-c241-c76de05b3567"
   },
   "outputs": [
    {
     "name": "stdout",
     "output_type": "stream",
     "text": [
      "Mounted at /content/drive\n"
     ]
    }
   ],
   "source": [
    "model, tokenizer = ruBERT_load(name='ruBERT_threeway')\n",
    "model.to('cuda')\n",
    "all_embeddings = []\n",
    "for i in tqdm(range(0,len(data))):\n",
    "    all_embeddings.append(make_embeddings(data.iloc[i,:]['full_text'], model, tokenizer))\n",
    "\n",
    "np.save('../embeddings/embeddings_ruBERT_threeway', np.array(all_embeddings))\n",
    "\n",
    "all_embeddings = []\n",
    "for i in tqdm(range(0,len(data_preproc))):\n",
    "    all_embeddings.append(make_embeddings(data_preproc.iloc[i,:]['full_text'], model, tokenizer))\n",
    "\n",
    "np.save('../embeddings/embeddings_ruBERT_threeway_preproc', np.array(all_embeddings))"
   ]
  },
  {
   "cell_type": "code",
   "execution_count": null,
   "metadata": {
    "id": "s3tEdyE8vcmP"
   },
   "outputs": [],
   "source": [
    "model, tokenizer = ruBERT_load(name='ruBERT_tiny_bilingual')\n",
    "model.to('cuda')\n",
    "all_embeddings = []\n",
    "for i in tqdm(range(0,len(data))):\n",
    "    all_embeddings.append(make_embeddings(data.iloc[i,:]['full_text'], model, tokenizer))\n",
    "\n",
    "np.save('../embeddings/embeddings_ruBERT_tiny_bilingual', np.array(all_embeddings))\n",
    "\n",
    "all_embeddings = []\n",
    "for i in tqdm(range(0,len(data_preproc))):\n",
    "    all_embeddings.append(make_embeddings(data_preproc.iloc[i,:]['full_text'], model, tokenizer))\n",
    "\n",
    "np.save('../embeddings/embeddings_ruBERT_tiny_bilingual', np.array(all_embeddings))"
   ]
  },
  {
   "cell_type": "markdown",
   "metadata": {
    "id": "67-LChxGWQS7"
   },
   "source": [
    "#### 2.2 LaBSE (Multilingual Embedding Model)"
   ]
  },
  {
   "cell_type": "code",
   "execution_count": null,
   "metadata": {
    "id": "RGdpB1KZVxGu"
   },
   "outputs": [],
   "source": [
    "model = SentenceTransformer('sentence-transformers/LaBSE')\n",
    "all_embeddings = model.encode(data['full_text'], show_progress_bar=True)\n",
    "\n",
    "np.save('../embeddings/LaBSE', np.array(all_embeddings))\n",
    "\n",
    "all_embeddings = model.encode(data['full_text'], show_progress_bar=True)\n",
    "\n",
    "np.save('../embeddings/LaBSE_preproc', np.array(all_embeddings))"
   ]
  },
  {
   "cell_type": "markdown",
   "metadata": {
    "id": "tsq8ryHxZPbv"
   },
   "source": [
    "### 3. Experiment"
   ]
  },
  {
   "cell_type": "markdown",
   "metadata": {
    "id": "60fbWsUOsd8Y"
   },
   "source": [
    "#### 3.1 TF_IDF recomendations"
   ]
  },
  {
   "cell_type": "markdown",
   "metadata": {
    "id": "gZeOC8mQsocE"
   },
   "source": [
    "##### 3.1.1 Text without preprocessing"
   ]
  },
  {
   "cell_type": "code",
   "execution_count": 31,
   "metadata": {
    "id": "kAGgOPAUvcmP"
   },
   "outputs": [],
   "source": [
    "model_title_tfidf_12, matrix_title_tfidf_12 = tfidf_load_model('title_tfidf_12')\n",
    "model_title_tfidf_1, matrix_title_tfidf_1 = tfidf_load_model('title_tfidf_1')\n",
    "model_title_tfidf_2, matrix_title_tfidf_2 = tfidf_load_model('title_tfidf_2')\n",
    "model_full_tfidf_12, matrix_full_tfidf_12 = tfidf_load_model('full_tfidf_12')\n",
    "model_full_tfidf_1, matrix_full_tfidf_1 = tfidf_load_model('full_tfidf_1')\n",
    "model_full_tfidf_2, matrix_full_tfidf_2 = tfidf_load_model('full_tfidf_2')\n",
    "\n",
    "model_title_tfidf_12_preproc, matrix_title_tfidf_12_preproc = tfidf_load_model('title_tfidf_12_preproc')\n",
    "model_title_tfidf_1_preproc, matrix_title_tfidf_1_preproc = tfidf_load_model('title_tfidf_1_preproc')\n",
    "model_title_tfidf_2_preproc, matrix_title_tfidf_2_preproc = tfidf_load_model('title_tfidf_2_preproc')\n",
    "model_full_tfidf_12_preproc, matrix_full_tfidf_12_preproc = tfidf_load_model('full_tfidf_12_preproc')\n",
    "model_full_tfidf_1_preproc, matrix_full_tfidf_1_preproc = tfidf_load_model('full_tfidf_1_preproc')\n",
    "model_full_tfidf_2_preproc, matrix_full_tfidf_2_preproc = tfidf_load_model('full_tfidf_2_preproc')"
   ]
  },
  {
   "cell_type": "code",
   "execution_count": 48,
   "metadata": {
    "colab": {
     "base_uri": "https://localhost:8080/",
     "height": 363
    },
    "id": "AA_1Cj91ZXWZ",
    "outputId": "a3c54fb2-3e6b-4153-b100-b69d9f67c3f5"
   },
   "outputs": [
    {
     "data": {
      "text/html": [
       "<div>\n",
       "<style scoped>\n",
       "    .dataframe tbody tr th:only-of-type {\n",
       "        vertical-align: middle;\n",
       "    }\n",
       "\n",
       "    .dataframe tbody tr th {\n",
       "        vertical-align: top;\n",
       "    }\n",
       "\n",
       "    .dataframe thead th {\n",
       "        text-align: right;\n",
       "    }\n",
       "</style>\n",
       "<table border=\"1\" class=\"dataframe\">\n",
       "  <thead>\n",
       "    <tr style=\"text-align: right;\">\n",
       "      <th></th>\n",
       "      <th>title</th>\n",
       "      <th>description</th>\n",
       "    </tr>\n",
       "  </thead>\n",
       "  <tbody>\n",
       "    <tr>\n",
       "      <th>0</th>\n",
       "      <td>Двойное налогообложение в России</td>\n",
       "      <td>Российские компании активно работают на зарубе...</td>\n",
       "    </tr>\n",
       "    <tr>\n",
       "      <th>1</th>\n",
       "      <td>инженерное будущее: создание удивительного</td>\n",
       "      <td>узнайте, какие ключевые навыки и знания, котор...</td>\n",
       "    </tr>\n",
       "    <tr>\n",
       "      <th>2</th>\n",
       "      <td>добыча в целях развития: налогообложение рычаж...</td>\n",
       "      <td>налоговые доходы, скорее всего, будет основным...</td>\n",
       "    </tr>\n",
       "    <tr>\n",
       "      <th>3</th>\n",
       "      <td>Налоги и налогообложение: специальные налоговы...</td>\n",
       "      <td>NaN</td>\n",
       "    </tr>\n",
       "    <tr>\n",
       "      <th>4</th>\n",
       "      <td>Промышленность, инженерное образование и наука...</td>\n",
       "      <td>&lt;p&gt;&lt;br&gt;&lt;/p&gt;\\r\\n</td>\n",
       "    </tr>\n",
       "    <tr>\n",
       "      <th>5</th>\n",
       "      <td>Промышленность, инженерное образование и наука...</td>\n",
       "      <td>NaN</td>\n",
       "    </tr>\n",
       "    <tr>\n",
       "      <th>6</th>\n",
       "      <td>Что такое ETF: инвестиции, особенности, разнов...</td>\n",
       "      <td>Разумная диверсификация активов помогает распр...</td>\n",
       "    </tr>\n",
       "    <tr>\n",
       "      <th>7</th>\n",
       "      <td>Защита мира: Вводя коррозии и инженерное дело</td>\n",
       "      <td>NaN</td>\n",
       "    </tr>\n",
       "    <tr>\n",
       "      <th>8</th>\n",
       "      <td>Открытие ВКС-конференции &amp;quot;Современное инж...</td>\n",
       "      <td></td>\n",
       "    </tr>\n",
       "    <tr>\n",
       "      <th>9</th>\n",
       "      <td>Логистический оператор Alibaba запустил в Кита...</td>\n",
       "      <td>Беспилотники сами прокладывают маршрут, но пок...</td>\n",
       "    </tr>\n",
       "  </tbody>\n",
       "</table>\n",
       "</div>"
      ],
      "text/plain": [
       "                                               title                                        description\n",
       "0                   Двойное налогообложение в России  Российские компании активно работают на зарубе...\n",
       "1         инженерное будущее: создание удивительного  узнайте, какие ключевые навыки и знания, котор...\n",
       "2  добыча в целях развития: налогообложение рычаж...  налоговые доходы, скорее всего, будет основным...\n",
       "3  Налоги и налогообложение: специальные налоговы...                                                NaN\n",
       "4  Промышленность, инженерное образование и наука...                                    <p><br></p>\\r\\n\n",
       "5  Промышленность, инженерное образование и наука...                                                NaN\n",
       "6  Что такое ETF: инвестиции, особенности, разнов...  Разумная диверсификация активов помогает распр...\n",
       "7      Защита мира: Вводя коррозии и инженерное дело                                                NaN\n",
       "8  Открытие ВКС-конференции &quot;Современное инж...                                                   \n",
       "9  Логистический оператор Alibaba запустил в Кита...  Беспилотники сами прокладывают маршрут, но пок..."
      ]
     },
     "execution_count": 48,
     "metadata": {},
     "output_type": "execute_result"
    }
   ],
   "source": [
    "make_tfidf_recomendation(matrix_title_tfidf_12, 'инженерное налогообложение', model_title_tfidf_12, data, data_orig)"
   ]
  },
  {
   "cell_type": "code",
   "execution_count": 49,
   "metadata": {
    "colab": {
     "base_uri": "https://localhost:8080/"
    },
    "id": "UIwrpY6Pqi1C",
    "outputId": "b6170b73-4cb9-44f7-c5b9-fc466ac3820b"
   },
   "outputs": [
    {
     "data": {
      "text/plain": [
       "False"
      ]
     },
     "execution_count": 49,
     "metadata": {},
     "output_type": "execute_result"
    }
   ],
   "source": [
    "make_tfidf_recomendation(matrix_full_tfidf_12, 'инженерное налогообложение', model_full_tfidf_12, data, data_orig)"
   ]
  },
  {
   "cell_type": "code",
   "execution_count": 50,
   "metadata": {
    "colab": {
     "base_uri": "https://localhost:8080/",
     "height": 363
    },
    "id": "p3aHKirtpdtD",
    "outputId": "703f4663-9ae1-4f22-f8d1-df1dfe61b77f"
   },
   "outputs": [
    {
     "data": {
      "text/html": [
       "<div>\n",
       "<style scoped>\n",
       "    .dataframe tbody tr th:only-of-type {\n",
       "        vertical-align: middle;\n",
       "    }\n",
       "\n",
       "    .dataframe tbody tr th {\n",
       "        vertical-align: top;\n",
       "    }\n",
       "\n",
       "    .dataframe thead th {\n",
       "        text-align: right;\n",
       "    }\n",
       "</style>\n",
       "<table border=\"1\" class=\"dataframe\">\n",
       "  <thead>\n",
       "    <tr style=\"text-align: right;\">\n",
       "      <th></th>\n",
       "      <th>title</th>\n",
       "      <th>description</th>\n",
       "    </tr>\n",
       "  </thead>\n",
       "  <tbody>\n",
       "    <tr>\n",
       "      <th>0</th>\n",
       "      <td>Двойное налогообложение в России</td>\n",
       "      <td>Российские компании активно работают на зарубе...</td>\n",
       "    </tr>\n",
       "    <tr>\n",
       "      <th>1</th>\n",
       "      <td>инженерное будущее: создание удивительного</td>\n",
       "      <td>узнайте, какие ключевые навыки и знания, котор...</td>\n",
       "    </tr>\n",
       "    <tr>\n",
       "      <th>2</th>\n",
       "      <td>Промышленность, инженерное образование и наука...</td>\n",
       "      <td>&lt;p&gt;&lt;br&gt;&lt;/p&gt;\\r\\n</td>\n",
       "    </tr>\n",
       "    <tr>\n",
       "      <th>3</th>\n",
       "      <td>Промышленность, инженерное образование и наука...</td>\n",
       "      <td>NaN</td>\n",
       "    </tr>\n",
       "    <tr>\n",
       "      <th>4</th>\n",
       "      <td>добыча в целях развития: налогообложение рычаж...</td>\n",
       "      <td>налоговые доходы, скорее всего, будет основным...</td>\n",
       "    </tr>\n",
       "    <tr>\n",
       "      <th>5</th>\n",
       "      <td>Налоги и налогообложение: специальные налоговы...</td>\n",
       "      <td>NaN</td>\n",
       "    </tr>\n",
       "    <tr>\n",
       "      <th>6</th>\n",
       "      <td>Что такое ETF: инвестиции, особенности, разнов...</td>\n",
       "      <td>Разумная диверсификация активов помогает распр...</td>\n",
       "    </tr>\n",
       "    <tr>\n",
       "      <th>7</th>\n",
       "      <td>Защита мира: Вводя коррозии и инженерное дело</td>\n",
       "      <td>NaN</td>\n",
       "    </tr>\n",
       "    <tr>\n",
       "      <th>8</th>\n",
       "      <td>Открытие ВКС-конференции &amp;quot;Современное инж...</td>\n",
       "      <td></td>\n",
       "    </tr>\n",
       "    <tr>\n",
       "      <th>9</th>\n",
       "      <td>Логистический оператор Alibaba запустил в Кита...</td>\n",
       "      <td>Беспилотники сами прокладывают маршрут, но пок...</td>\n",
       "    </tr>\n",
       "  </tbody>\n",
       "</table>\n",
       "</div>"
      ],
      "text/plain": [
       "                                               title                                        description\n",
       "0                   Двойное налогообложение в России  Российские компании активно работают на зарубе...\n",
       "1         инженерное будущее: создание удивительного  узнайте, какие ключевые навыки и знания, котор...\n",
       "2  Промышленность, инженерное образование и наука...                                    <p><br></p>\\r\\n\n",
       "3  Промышленность, инженерное образование и наука...                                                NaN\n",
       "4  добыча в целях развития: налогообложение рычаж...  налоговые доходы, скорее всего, будет основным...\n",
       "5  Налоги и налогообложение: специальные налоговы...                                                NaN\n",
       "6  Что такое ETF: инвестиции, особенности, разнов...  Разумная диверсификация активов помогает распр...\n",
       "7      Защита мира: Вводя коррозии и инженерное дело                                                NaN\n",
       "8  Открытие ВКС-конференции &quot;Современное инж...                                                   \n",
       "9  Логистический оператор Alibaba запустил в Кита...  Беспилотники сами прокладывают маршрут, но пок..."
      ]
     },
     "execution_count": 50,
     "metadata": {},
     "output_type": "execute_result"
    }
   ],
   "source": [
    "make_tfidf_recomendation(matrix_title_tfidf_1, 'инженерное налогообложение', model_title_tfidf_1, data, data_orig)"
   ]
  },
  {
   "cell_type": "code",
   "execution_count": 51,
   "metadata": {
    "colab": {
     "base_uri": "https://localhost:8080/",
     "height": 363
    },
    "id": "nMApgHd-rAPm",
    "outputId": "a354fa12-e500-4727-c854-144014944a00"
   },
   "outputs": [
    {
     "data": {
      "text/html": [
       "<div>\n",
       "<style scoped>\n",
       "    .dataframe tbody tr th:only-of-type {\n",
       "        vertical-align: middle;\n",
       "    }\n",
       "\n",
       "    .dataframe tbody tr th {\n",
       "        vertical-align: top;\n",
       "    }\n",
       "\n",
       "    .dataframe thead th {\n",
       "        text-align: right;\n",
       "    }\n",
       "</style>\n",
       "<table border=\"1\" class=\"dataframe\">\n",
       "  <thead>\n",
       "    <tr style=\"text-align: right;\">\n",
       "      <th></th>\n",
       "      <th>title</th>\n",
       "      <th>description</th>\n",
       "    </tr>\n",
       "  </thead>\n",
       "  <tbody>\n",
       "    <tr>\n",
       "      <th>0</th>\n",
       "      <td>Промышленность, инженерное образование и наука...</td>\n",
       "      <td>NaN</td>\n",
       "    </tr>\n",
       "    <tr>\n",
       "      <th>1</th>\n",
       "      <td>Промышленность, инженерное образование и наука...</td>\n",
       "      <td>&lt;p&gt;&lt;br&gt;&lt;/p&gt;\\r\\n</td>\n",
       "    </tr>\n",
       "    <tr>\n",
       "      <th>2</th>\n",
       "      <td>Налоги и налогообложение: специальные налоговы...</td>\n",
       "      <td>NaN</td>\n",
       "    </tr>\n",
       "    <tr>\n",
       "      <th>3</th>\n",
       "      <td>Защита мира: Вводя коррозии и инженерное дело</td>\n",
       "      <td>NaN</td>\n",
       "    </tr>\n",
       "    <tr>\n",
       "      <th>4</th>\n",
       "      <td>Открытие ВКС-конференции &amp;quot;Современное инж...</td>\n",
       "      <td></td>\n",
       "    </tr>\n",
       "    <tr>\n",
       "      <th>5</th>\n",
       "      <td>Инженерное образование школьников: когда начин...</td>\n",
       "      <td>Когда нужно начинать инженерное образование де...</td>\n",
       "    </tr>\n",
       "    <tr>\n",
       "      <th>6</th>\n",
       "      <td>Что такое ETF: инвестиции, особенности, разнов...</td>\n",
       "      <td>Разумная диверсификация активов помогает распр...</td>\n",
       "    </tr>\n",
       "    <tr>\n",
       "      <th>7</th>\n",
       "      <td>Отсрочка маркировки обуви: как работать до 1 и...</td>\n",
       "      <td>Правительство дало обувникам квартал на то, чт...</td>\n",
       "    </tr>\n",
       "    <tr>\n",
       "      <th>8</th>\n",
       "      <td>Двойное налогообложение в России</td>\n",
       "      <td>Российские компании активно работают на зарубе...</td>\n",
       "    </tr>\n",
       "    <tr>\n",
       "      <th>9</th>\n",
       "      <td>Мехатроника и робототехника</td>\n",
       "      <td>&lt;p&gt;Современное инженерное образование расширяе...</td>\n",
       "    </tr>\n",
       "  </tbody>\n",
       "</table>\n",
       "</div>"
      ],
      "text/plain": [
       "                                               title                                        description\n",
       "0  Промышленность, инженерное образование и наука...                                                NaN\n",
       "1  Промышленность, инженерное образование и наука...                                    <p><br></p>\\r\\n\n",
       "2  Налоги и налогообложение: специальные налоговы...                                                NaN\n",
       "3      Защита мира: Вводя коррозии и инженерное дело                                                NaN\n",
       "4  Открытие ВКС-конференции &quot;Современное инж...                                                   \n",
       "5  Инженерное образование школьников: когда начин...  Когда нужно начинать инженерное образование де...\n",
       "6  Что такое ETF: инвестиции, особенности, разнов...  Разумная диверсификация активов помогает распр...\n",
       "7  Отсрочка маркировки обуви: как работать до 1 и...  Правительство дало обувникам квартал на то, чт...\n",
       "8                   Двойное налогообложение в России  Российские компании активно работают на зарубе...\n",
       "9                        Мехатроника и робототехника  <p>Современное инженерное образование расширяе..."
      ]
     },
     "execution_count": 51,
     "metadata": {},
     "output_type": "execute_result"
    }
   ],
   "source": [
    "make_tfidf_recomendation(matrix_full_tfidf_1, 'инженерное налогообложение', model_full_tfidf_1, data, data_orig)"
   ]
  },
  {
   "cell_type": "code",
   "execution_count": 52,
   "metadata": {
    "colab": {
     "base_uri": "https://localhost:8080/"
    },
    "id": "6ClG-p7Spg_j",
    "outputId": "1b4b29fb-922d-4b6f-ca92-33fa628e8568"
   },
   "outputs": [
    {
     "data": {
      "text/plain": [
       "False"
      ]
     },
     "execution_count": 52,
     "metadata": {},
     "output_type": "execute_result"
    }
   ],
   "source": [
    "make_tfidf_recomendation(matrix_title_tfidf_2, 'инженерное налогообложение', model_title_tfidf_2, data, data_orig)"
   ]
  },
  {
   "cell_type": "code",
   "execution_count": 53,
   "metadata": {
    "colab": {
     "base_uri": "https://localhost:8080/"
    },
    "id": "Z5eEbp6lrLAm",
    "outputId": "6995a4f9-7976-41ee-d8ea-9784a6186b7f"
   },
   "outputs": [
    {
     "data": {
      "text/plain": [
       "False"
      ]
     },
     "execution_count": 53,
     "metadata": {},
     "output_type": "execute_result"
    }
   ],
   "source": [
    "make_tfidf_recomendation(matrix_full_tfidf_2, 'инженерное налогообложение', model_full_tfidf_2, data, data_orig)"
   ]
  },
  {
   "cell_type": "markdown",
   "metadata": {
    "id": "NaWEuBofszFp"
   },
   "source": [
    "##### 3.1.2 Text with preprocessing"
   ]
  },
  {
   "cell_type": "code",
   "execution_count": 54,
   "metadata": {
    "colab": {
     "base_uri": "https://localhost:8080/",
     "height": 363
    },
    "id": "YabWnnfcpjXL",
    "outputId": "0968008d-cef9-4cfa-bcf8-e431a052015c"
   },
   "outputs": [
    {
     "data": {
      "text/html": [
       "<div>\n",
       "<style scoped>\n",
       "    .dataframe tbody tr th:only-of-type {\n",
       "        vertical-align: middle;\n",
       "    }\n",
       "\n",
       "    .dataframe tbody tr th {\n",
       "        vertical-align: top;\n",
       "    }\n",
       "\n",
       "    .dataframe thead th {\n",
       "        text-align: right;\n",
       "    }\n",
       "</style>\n",
       "<table border=\"1\" class=\"dataframe\">\n",
       "  <thead>\n",
       "    <tr style=\"text-align: right;\">\n",
       "      <th></th>\n",
       "      <th>title</th>\n",
       "      <th>description</th>\n",
       "    </tr>\n",
       "  </thead>\n",
       "  <tbody>\n",
       "    <tr>\n",
       "      <th>0</th>\n",
       "      <td>Двойное налогообложение в России</td>\n",
       "      <td>Российские компании активно работают на зарубе...</td>\n",
       "    </tr>\n",
       "    <tr>\n",
       "      <th>1</th>\n",
       "      <td>Основы налогообложения бизнеса в России</td>\n",
       "      <td>NaN</td>\n",
       "    </tr>\n",
       "    <tr>\n",
       "      <th>2</th>\n",
       "      <td>инженерная механика</td>\n",
       "      <td>вы заинтересованы в улучшении ваших механиков ...</td>\n",
       "    </tr>\n",
       "    <tr>\n",
       "      <th>3</th>\n",
       "      <td>Инженерная механика</td>\n",
       "      <td>В курсе наглядно, в сочетании с математической...</td>\n",
       "    </tr>\n",
       "    <tr>\n",
       "      <th>4</th>\n",
       "      <td>Инженерная механика</td>\n",
       "      <td>В курсе наглядно, в сочетании с математической...</td>\n",
       "    </tr>\n",
       "    <tr>\n",
       "      <th>5</th>\n",
       "      <td>инженерная механика</td>\n",
       "      <td>это базовый курс первого уровня, чтобы узнать ...</td>\n",
       "    </tr>\n",
       "    <tr>\n",
       "      <th>6</th>\n",
       "      <td>инженерная математика ii</td>\n",
       "      <td>этот курс об основной математике, является фун...</td>\n",
       "    </tr>\n",
       "    <tr>\n",
       "      <th>7</th>\n",
       "      <td>инженерная математика - i</td>\n",
       "      <td>этот курс об основной математике, является фун...</td>\n",
       "    </tr>\n",
       "    <tr>\n",
       "      <th>8</th>\n",
       "      <td>инженерная графика</td>\n",
       "      <td>основной целью данного курса является: студент...</td>\n",
       "    </tr>\n",
       "    <tr>\n",
       "      <th>9</th>\n",
       "      <td>Налогообложение I хозяйствующих субъектов: Кор...</td>\n",
       "      <td>NaN</td>\n",
       "    </tr>\n",
       "  </tbody>\n",
       "</table>\n",
       "</div>"
      ],
      "text/plain": [
       "                                               title                                        description\n",
       "0                   Двойное налогообложение в России  Российские компании активно работают на зарубе...\n",
       "1            Основы налогообложения бизнеса в России                                                NaN\n",
       "2                                инженерная механика  вы заинтересованы в улучшении ваших механиков ...\n",
       "3                                Инженерная механика  В курсе наглядно, в сочетании с математической...\n",
       "4                                Инженерная механика  В курсе наглядно, в сочетании с математической...\n",
       "5                                инженерная механика  это базовый курс первого уровня, чтобы узнать ...\n",
       "6                           инженерная математика ii  этот курс об основной математике, является фун...\n",
       "7                          инженерная математика - i  этот курс об основной математике, является фун...\n",
       "8                                 инженерная графика  основной целью данного курса является: студент...\n",
       "9  Налогообложение I хозяйствующих субъектов: Кор...                                                NaN"
      ]
     },
     "execution_count": 54,
     "metadata": {},
     "output_type": "execute_result"
    }
   ],
   "source": [
    "make_tfidf_recomendation(matrix_title_tfidf_12_preproc, preprocessing('инженерное налогообложение'), model_title_tfidf_12_preproc, data_preproc, data_orig)"
   ]
  },
  {
   "cell_type": "code",
   "execution_count": 55,
   "metadata": {
    "colab": {
     "base_uri": "https://localhost:8080/",
     "height": 363
    },
    "id": "-tpk0zD2riUA",
    "outputId": "88839ffa-313b-4d67-8bea-33845b1aff0a"
   },
   "outputs": [
    {
     "data": {
      "text/html": [
       "<div>\n",
       "<style scoped>\n",
       "    .dataframe tbody tr th:only-of-type {\n",
       "        vertical-align: middle;\n",
       "    }\n",
       "\n",
       "    .dataframe tbody tr th {\n",
       "        vertical-align: top;\n",
       "    }\n",
       "\n",
       "    .dataframe thead th {\n",
       "        text-align: right;\n",
       "    }\n",
       "</style>\n",
       "<table border=\"1\" class=\"dataframe\">\n",
       "  <thead>\n",
       "    <tr style=\"text-align: right;\">\n",
       "      <th></th>\n",
       "      <th>title</th>\n",
       "      <th>description</th>\n",
       "    </tr>\n",
       "  </thead>\n",
       "  <tbody>\n",
       "    <tr>\n",
       "      <th>0</th>\n",
       "      <td>Основы налогообложения бизнеса в России</td>\n",
       "      <td>NaN</td>\n",
       "    </tr>\n",
       "    <tr>\n",
       "      <th>1</th>\n",
       "      <td>Налогообложение I хозяйствующих субъектов: Кор...</td>\n",
       "      <td>NaN</td>\n",
       "    </tr>\n",
       "    <tr>\n",
       "      <th>2</th>\n",
       "      <td>Налоги и налогообложение: специальные налоговы...</td>\n",
       "      <td>NaN</td>\n",
       "    </tr>\n",
       "    <tr>\n",
       "      <th>3</th>\n",
       "      <td>Налогообложение хозяйствующих субъектов II: Pa...</td>\n",
       "      <td>NaN</td>\n",
       "    </tr>\n",
       "    <tr>\n",
       "      <th>4</th>\n",
       "      <td>Упрощенная система налогообложения станет еще ...</td>\n",
       "      <td>Госдумой в первом чтении приняты проекты закон...</td>\n",
       "    </tr>\n",
       "    <tr>\n",
       "      <th>5</th>\n",
       "      <td>Налогообложение в Российской Федерации: основа...</td>\n",
       "      <td>NaN</td>\n",
       "    </tr>\n",
       "    <tr>\n",
       "      <th>6</th>\n",
       "      <td>Введение в инженерные механик</td>\n",
       "      <td>NaN</td>\n",
       "    </tr>\n",
       "    <tr>\n",
       "      <th>7</th>\n",
       "      <td>Применение в инженерной механики</td>\n",
       "      <td>NaN</td>\n",
       "    </tr>\n",
       "    <tr>\n",
       "      <th>8</th>\n",
       "      <td>Сэкономить на налогах — советы главного бухгал...</td>\n",
       "      <td>Пригодятся всем компаниям на основной системе ...</td>\n",
       "    </tr>\n",
       "    <tr>\n",
       "      <th>9</th>\n",
       "      <td>Двойное налогообложение в России</td>\n",
       "      <td>Российские компании активно работают на зарубе...</td>\n",
       "    </tr>\n",
       "  </tbody>\n",
       "</table>\n",
       "</div>"
      ],
      "text/plain": [
       "                                               title                                        description\n",
       "0            Основы налогообложения бизнеса в России                                                NaN\n",
       "1  Налогообложение I хозяйствующих субъектов: Кор...                                                NaN\n",
       "2  Налоги и налогообложение: специальные налоговы...                                                NaN\n",
       "3  Налогообложение хозяйствующих субъектов II: Pa...                                                NaN\n",
       "4  Упрощенная система налогообложения станет еще ...  Госдумой в первом чтении приняты проекты закон...\n",
       "5  Налогообложение в Российской Федерации: основа...                                                NaN\n",
       "6                      Введение в инженерные механик                                                NaN\n",
       "7                   Применение в инженерной механики                                                NaN\n",
       "8  Сэкономить на налогах — советы главного бухгал...  Пригодятся всем компаниям на основной системе ...\n",
       "9                   Двойное налогообложение в России  Российские компании активно работают на зарубе..."
      ]
     },
     "execution_count": 55,
     "metadata": {},
     "output_type": "execute_result"
    }
   ],
   "source": [
    "make_tfidf_recomendation(matrix_full_tfidf_12_preproc, preprocessing('инженерное налогообложение'), model_full_tfidf_12_preproc, data_preproc, data_orig)"
   ]
  },
  {
   "cell_type": "code",
   "execution_count": null,
   "metadata": {
    "colab": {
     "base_uri": "https://localhost:8080/"
    },
    "id": "H5Mh3HwpqCId",
    "outputId": "5f7da704-6a15-4ea8-e71e-98afa68e4056"
   },
   "outputs": [
    {
     "data": {
      "text/plain": [
       "False"
      ]
     },
     "execution_count": 108,
     "metadata": {},
     "output_type": "execute_result"
    }
   ],
   "source": [
    "make_tfidf_recomendation(matrix_title_tfidf_2_preproc, preprocessing('инженерное налогообложение'), model_title_tfidf_2_preproc, data_preproc, data_orig)"
   ]
  },
  {
   "cell_type": "code",
   "execution_count": null,
   "metadata": {
    "colab": {
     "base_uri": "https://localhost:8080/"
    },
    "id": "EXmnbwagqHbg",
    "outputId": "e18c1e7e-a0c5-4a76-806a-cab4efff7960"
   },
   "outputs": [
    {
     "data": {
      "text/plain": [
       "False"
      ]
     },
     "execution_count": 109,
     "metadata": {},
     "output_type": "execute_result"
    }
   ],
   "source": [
    "make_tfidf_recomendation(matrix_full_tfidf_2_preproc, preprocessing('инженерное налогообложение'), model_full_tfidf_2_preproc, data_preproc, data_orig)"
   ]
  },
  {
   "cell_type": "code",
   "execution_count": 56,
   "metadata": {
    "colab": {
     "base_uri": "https://localhost:8080/",
     "height": 363
    },
    "id": "tIMeEWFkqJ2v",
    "outputId": "d2cd873b-cc7e-470a-b2da-70c6ca8477aa"
   },
   "outputs": [
    {
     "data": {
      "text/html": [
       "<div>\n",
       "<style scoped>\n",
       "    .dataframe tbody tr th:only-of-type {\n",
       "        vertical-align: middle;\n",
       "    }\n",
       "\n",
       "    .dataframe tbody tr th {\n",
       "        vertical-align: top;\n",
       "    }\n",
       "\n",
       "    .dataframe thead th {\n",
       "        text-align: right;\n",
       "    }\n",
       "</style>\n",
       "<table border=\"1\" class=\"dataframe\">\n",
       "  <thead>\n",
       "    <tr style=\"text-align: right;\">\n",
       "      <th></th>\n",
       "      <th>title</th>\n",
       "      <th>description</th>\n",
       "    </tr>\n",
       "  </thead>\n",
       "  <tbody>\n",
       "    <tr>\n",
       "      <th>0</th>\n",
       "      <td>Основы налогообложения бизнеса в России</td>\n",
       "      <td>NaN</td>\n",
       "    </tr>\n",
       "    <tr>\n",
       "      <th>1</th>\n",
       "      <td>Двойное налогообложение в России</td>\n",
       "      <td>Российские компании активно работают на зарубе...</td>\n",
       "    </tr>\n",
       "    <tr>\n",
       "      <th>2</th>\n",
       "      <td>инженерная математика ii</td>\n",
       "      <td>этот курс об основной математике, является фун...</td>\n",
       "    </tr>\n",
       "    <tr>\n",
       "      <th>3</th>\n",
       "      <td>инженерная математика - i</td>\n",
       "      <td>этот курс об основной математике, является фун...</td>\n",
       "    </tr>\n",
       "    <tr>\n",
       "      <th>4</th>\n",
       "      <td>инженерная механика</td>\n",
       "      <td>это базовый курс первого уровня, чтобы узнать ...</td>\n",
       "    </tr>\n",
       "    <tr>\n",
       "      <th>5</th>\n",
       "      <td>инженерная механика</td>\n",
       "      <td>вы заинтересованы в улучшении ваших механиков ...</td>\n",
       "    </tr>\n",
       "    <tr>\n",
       "      <th>6</th>\n",
       "      <td>Инженерная механика</td>\n",
       "      <td>В курсе наглядно, в сочетании с математической...</td>\n",
       "    </tr>\n",
       "    <tr>\n",
       "      <th>7</th>\n",
       "      <td>Инженерная механика</td>\n",
       "      <td>В курсе наглядно, в сочетании с математической...</td>\n",
       "    </tr>\n",
       "    <tr>\n",
       "      <th>8</th>\n",
       "      <td>Упрощенная система налогообложения станет еще ...</td>\n",
       "      <td>Госдумой в первом чтении приняты проекты закон...</td>\n",
       "    </tr>\n",
       "    <tr>\n",
       "      <th>9</th>\n",
       "      <td>инженерная графика</td>\n",
       "      <td>основной целью данного курса является: студент...</td>\n",
       "    </tr>\n",
       "  </tbody>\n",
       "</table>\n",
       "</div>"
      ],
      "text/plain": [
       "                                               title                                        description\n",
       "0            Основы налогообложения бизнеса в России                                                NaN\n",
       "1                   Двойное налогообложение в России  Российские компании активно работают на зарубе...\n",
       "2                           инженерная математика ii  этот курс об основной математике, является фун...\n",
       "3                          инженерная математика - i  этот курс об основной математике, является фун...\n",
       "4                                инженерная механика  это базовый курс первого уровня, чтобы узнать ...\n",
       "5                                инженерная механика  вы заинтересованы в улучшении ваших механиков ...\n",
       "6                                Инженерная механика  В курсе наглядно, в сочетании с математической...\n",
       "7                                Инженерная механика  В курсе наглядно, в сочетании с математической...\n",
       "8  Упрощенная система налогообложения станет еще ...  Госдумой в первом чтении приняты проекты закон...\n",
       "9                                 инженерная графика  основной целью данного курса является: студент..."
      ]
     },
     "execution_count": 56,
     "metadata": {},
     "output_type": "execute_result"
    }
   ],
   "source": [
    "make_tfidf_recomendation(matrix_title_tfidf_1_preproc, preprocessing('инженерное налогообложение'), model_title_tfidf_1_preproc, data_preproc, data_orig)"
   ]
  },
  {
   "cell_type": "code",
   "execution_count": 57,
   "metadata": {
    "colab": {
     "base_uri": "https://localhost:8080/",
     "height": 363
    },
    "id": "9nkad0RVr-GQ",
    "outputId": "330a543f-e18f-4d17-eeb5-f09930381c2e"
   },
   "outputs": [
    {
     "data": {
      "text/html": [
       "<div>\n",
       "<style scoped>\n",
       "    .dataframe tbody tr th:only-of-type {\n",
       "        vertical-align: middle;\n",
       "    }\n",
       "\n",
       "    .dataframe tbody tr th {\n",
       "        vertical-align: top;\n",
       "    }\n",
       "\n",
       "    .dataframe thead th {\n",
       "        text-align: right;\n",
       "    }\n",
       "</style>\n",
       "<table border=\"1\" class=\"dataframe\">\n",
       "  <thead>\n",
       "    <tr style=\"text-align: right;\">\n",
       "      <th></th>\n",
       "      <th>title</th>\n",
       "      <th>description</th>\n",
       "    </tr>\n",
       "  </thead>\n",
       "  <tbody>\n",
       "    <tr>\n",
       "      <th>0</th>\n",
       "      <td>Основы налогообложения бизнеса в России</td>\n",
       "      <td>NaN</td>\n",
       "    </tr>\n",
       "    <tr>\n",
       "      <th>1</th>\n",
       "      <td>Налоги и налогообложение: специальные налоговы...</td>\n",
       "      <td>NaN</td>\n",
       "    </tr>\n",
       "    <tr>\n",
       "      <th>2</th>\n",
       "      <td>Упрощенная система налогообложения станет еще ...</td>\n",
       "      <td>Госдумой в первом чтении приняты проекты закон...</td>\n",
       "    </tr>\n",
       "    <tr>\n",
       "      <th>3</th>\n",
       "      <td>Налогообложение I хозяйствующих субъектов: Кор...</td>\n",
       "      <td>NaN</td>\n",
       "    </tr>\n",
       "    <tr>\n",
       "      <th>4</th>\n",
       "      <td>Управление Основные Инженерные проекты</td>\n",
       "      <td>NaN</td>\n",
       "    </tr>\n",
       "    <tr>\n",
       "      <th>5</th>\n",
       "      <td>Налогообложение в Российской Федерации: основа...</td>\n",
       "      <td>NaN</td>\n",
       "    </tr>\n",
       "    <tr>\n",
       "      <th>6</th>\n",
       "      <td>Налогообложение хозяйствующих субъектов II: Pa...</td>\n",
       "      <td>NaN</td>\n",
       "    </tr>\n",
       "    <tr>\n",
       "      <th>7</th>\n",
       "      <td>Введение в инженерные механик</td>\n",
       "      <td>NaN</td>\n",
       "    </tr>\n",
       "    <tr>\n",
       "      <th>8</th>\n",
       "      <td>Сэкономить на налогах — советы главного бухгал...</td>\n",
       "      <td>Пригодятся всем компаниям на основной системе ...</td>\n",
       "    </tr>\n",
       "    <tr>\n",
       "      <th>9</th>\n",
       "      <td>Применение в инженерной механики</td>\n",
       "      <td>NaN</td>\n",
       "    </tr>\n",
       "  </tbody>\n",
       "</table>\n",
       "</div>"
      ],
      "text/plain": [
       "                                               title                                        description\n",
       "0            Основы налогообложения бизнеса в России                                                NaN\n",
       "1  Налоги и налогообложение: специальные налоговы...                                                NaN\n",
       "2  Упрощенная система налогообложения станет еще ...  Госдумой в первом чтении приняты проекты закон...\n",
       "3  Налогообложение I хозяйствующих субъектов: Кор...                                                NaN\n",
       "4             Управление Основные Инженерные проекты                                                NaN\n",
       "5  Налогообложение в Российской Федерации: основа...                                                NaN\n",
       "6  Налогообложение хозяйствующих субъектов II: Pa...                                                NaN\n",
       "7                      Введение в инженерные механик                                                NaN\n",
       "8  Сэкономить на налогах — советы главного бухгал...  Пригодятся всем компаниям на основной системе ...\n",
       "9                   Применение в инженерной механики                                                NaN"
      ]
     },
     "execution_count": 57,
     "metadata": {},
     "output_type": "execute_result"
    }
   ],
   "source": [
    "make_tfidf_recomendation(matrix_full_tfidf_1_preproc, preprocessing('инженерное налогообложение'), model_full_tfidf_1_preproc, data_preproc, data_orig)"
   ]
  },
  {
   "cell_type": "code",
   "execution_count": 58,
   "metadata": {
    "colab": {
     "base_uri": "https://localhost:8080/",
     "height": 363
    },
    "id": "XBnJ-J9azRjL",
    "outputId": "6e8a473c-a876-4fb0-d237-55360dc52bd2"
   },
   "outputs": [
    {
     "data": {
      "text/html": [
       "<div>\n",
       "<style scoped>\n",
       "    .dataframe tbody tr th:only-of-type {\n",
       "        vertical-align: middle;\n",
       "    }\n",
       "\n",
       "    .dataframe tbody tr th {\n",
       "        vertical-align: top;\n",
       "    }\n",
       "\n",
       "    .dataframe thead th {\n",
       "        text-align: right;\n",
       "    }\n",
       "</style>\n",
       "<table border=\"1\" class=\"dataframe\">\n",
       "  <thead>\n",
       "    <tr style=\"text-align: right;\">\n",
       "      <th></th>\n",
       "      <th>title</th>\n",
       "      <th>description</th>\n",
       "    </tr>\n",
       "  </thead>\n",
       "  <tbody>\n",
       "    <tr>\n",
       "      <th>0</th>\n",
       "      <td>Образовательный data engineering</td>\n",
       "      <td>NaN</td>\n",
       "    </tr>\n",
       "    <tr>\n",
       "      <th>1</th>\n",
       "      <td>Инновационный менеджмент</td>\n",
       "      <td>NaN</td>\n",
       "    </tr>\n",
       "    <tr>\n",
       "      <th>2</th>\n",
       "      <td>Поведенческие Инвестирование</td>\n",
       "      <td>NaN</td>\n",
       "    </tr>\n",
       "    <tr>\n",
       "      <th>3</th>\n",
       "      <td>Статистические выводы</td>\n",
       "      <td>NaN</td>\n",
       "    </tr>\n",
       "    <tr>\n",
       "      <th>4</th>\n",
       "      <td>Наука Осуществления</td>\n",
       "      <td>NaN</td>\n",
       "    </tr>\n",
       "    <tr>\n",
       "      <th>5</th>\n",
       "      <td>Проектное финансирование</td>\n",
       "      <td>NaN</td>\n",
       "    </tr>\n",
       "    <tr>\n",
       "      <th>6</th>\n",
       "      <td>Финансовые технологии</td>\n",
       "      <td>NaN</td>\n",
       "    </tr>\n",
       "    <tr>\n",
       "      <th>7</th>\n",
       "      <td>Финансовые технологии</td>\n",
       "      <td>&lt;p&gt;&lt;br&gt;&lt;/p&gt;\\r\\n</td>\n",
       "    </tr>\n",
       "    <tr>\n",
       "      <th>8</th>\n",
       "      <td>Развитие Drug</td>\n",
       "      <td>NaN</td>\n",
       "    </tr>\n",
       "    <tr>\n",
       "      <th>9</th>\n",
       "      <td>Интеллектуальная обработка</td>\n",
       "      <td>NaN</td>\n",
       "    </tr>\n",
       "  </tbody>\n",
       "</table>\n",
       "</div>"
      ],
      "text/plain": [
       "                              title      description\n",
       "0  Образовательный data engineering              NaN\n",
       "1          Инновационный менеджмент              NaN\n",
       "2      Поведенческие Инвестирование              NaN\n",
       "3             Статистические выводы              NaN\n",
       "4               Наука Осуществления              NaN\n",
       "5          Проектное финансирование              NaN\n",
       "6             Финансовые технологии              NaN\n",
       "7             Финансовые технологии  <p><br></p>\\r\\n\n",
       "8                     Развитие Drug              NaN\n",
       "9        Интеллектуальная обработка              NaN"
      ]
     },
     "execution_count": 58,
     "metadata": {},
     "output_type": "execute_result"
    }
   ],
   "source": [
    "model, tokenizer = ruBERT_load('ruBERT_tiny')\n",
    "all_embeddings = np.load('../embeddings/embeddings_ruBERT_tiny.npy')\n",
    "make_recomendation(all_embeddings, 'инженерное налогообложение', model, tokenizer, data, data_orig)"
   ]
  },
  {
   "cell_type": "code",
   "execution_count": null,
   "metadata": {
    "colab": {
     "base_uri": "https://localhost:8080/",
     "height": 346
    },
    "id": "e4QsUMIr2Ydr",
    "outputId": "234ac8db-f30d-4300-e2b2-7ccbddeab9e6"
   },
   "outputs": [],
   "source": [
    "model, tokenizer = ruBERT_load('ruBERT_tiny')\n",
    "all_embeddings = np.load('../embeddings/embeddings_ruBERT_tiny_preproc.npy')\n",
    "make_recomendation(all_embeddings, 'инженерное налогообложение', model, tokenizer, data, data_orig)"
   ]
  },
  {
   "cell_type": "code",
   "execution_count": 75,
   "metadata": {
    "colab": {
     "base_uri": "https://localhost:8080/",
     "height": 363
    },
    "id": "Kn0_W-jU2t0F",
    "outputId": "71fbe8c4-8955-4e45-9815-176c760b8f99"
   },
   "outputs": [
    {
     "data": {
      "text/html": [
       "<div>\n",
       "<style scoped>\n",
       "    .dataframe tbody tr th:only-of-type {\n",
       "        vertical-align: middle;\n",
       "    }\n",
       "\n",
       "    .dataframe tbody tr th {\n",
       "        vertical-align: top;\n",
       "    }\n",
       "\n",
       "    .dataframe thead th {\n",
       "        text-align: right;\n",
       "    }\n",
       "</style>\n",
       "<table border=\"1\" class=\"dataframe\">\n",
       "  <thead>\n",
       "    <tr style=\"text-align: right;\">\n",
       "      <th></th>\n",
       "      <th>title</th>\n",
       "      <th>description</th>\n",
       "    </tr>\n",
       "  </thead>\n",
       "  <tbody>\n",
       "    <tr>\n",
       "      <th>0</th>\n",
       "      <td>Разбор стратегии автомарафона  на 1 млн с запу...</td>\n",
       "      <td>NaN</td>\n",
       "    </tr>\n",
       "    <tr>\n",
       "      <th>1</th>\n",
       "      <td>Налоговое право (Tax law)</td>\n",
       "      <td>NaN</td>\n",
       "    </tr>\n",
       "    <tr>\n",
       "      <th>2</th>\n",
       "      <td>Кейс продвижения горчичного масла \"Горлинка\"</td>\n",
       "      <td>NaN</td>\n",
       "    </tr>\n",
       "    <tr>\n",
       "      <th>3</th>\n",
       "      <td>Современная комбинаторика (Modern combinatorics)</td>\n",
       "      <td>NaN</td>\n",
       "    </tr>\n",
       "    <tr>\n",
       "      <th>4</th>\n",
       "      <td>Эконометрика (Econometrics)</td>\n",
       "      <td>NaN</td>\n",
       "    </tr>\n",
       "    <tr>\n",
       "      <th>5</th>\n",
       "      <td>Как растить маркетинг, не увеличивая стоимость...</td>\n",
       "      <td>NaN</td>\n",
       "    </tr>\n",
       "    <tr>\n",
       "      <th>6</th>\n",
       "      <td>Введение ускорителей частиц (НПББ Mooc)</td>\n",
       "      <td>NaN</td>\n",
       "    </tr>\n",
       "    <tr>\n",
       "      <th>7</th>\n",
       "      <td>Макроэкономическое планирование и прогнозирова...</td>\n",
       "      <td>NaN</td>\n",
       "    </tr>\n",
       "    <tr>\n",
       "      <th>8</th>\n",
       "      <td>Как развиваться в области ux/ui ?</td>\n",
       "      <td>Какие ресурсы есть для развития</td>\n",
       "    </tr>\n",
       "    <tr>\n",
       "      <th>9</th>\n",
       "      <td>Строительство R пакеты</td>\n",
       "      <td>NaN</td>\n",
       "    </tr>\n",
       "  </tbody>\n",
       "</table>\n",
       "</div>"
      ],
      "text/plain": [
       "                                               title                      description\n",
       "0  Разбор стратегии автомарафона  на 1 млн с запу...                              NaN\n",
       "1                          Налоговое право (Tax law)                              NaN\n",
       "2       Кейс продвижения горчичного масла \"Горлинка\"                              NaN\n",
       "3   Современная комбинаторика (Modern combinatorics)                              NaN\n",
       "4                        Эконометрика (Econometrics)                              NaN\n",
       "5  Как растить маркетинг, не увеличивая стоимость...                              NaN\n",
       "6            Введение ускорителей частиц (НПББ Mooc)                              NaN\n",
       "7  Макроэкономическое планирование и прогнозирова...                              NaN\n",
       "8                  Как развиваться в области ux/ui ?  Какие ресурсы есть для развития\n",
       "9                             Строительство R пакеты                              NaN"
      ]
     },
     "execution_count": 75,
     "metadata": {},
     "output_type": "execute_result"
    }
   ],
   "source": [
    "model, tokenizer = ruBERT_load('ruBERT_threeway')\n",
    "all_embeddings = np.load('../embeddings/embeddings_ruBERT_threeway.npy')\n",
    "make_recomendation(all_embeddings, 'инженерное налогообложение', model, tokenizer, data, data_orig)"
   ]
  },
  {
   "cell_type": "code",
   "execution_count": 83,
   "metadata": {
    "colab": {
     "base_uri": "https://localhost:8080/",
     "height": 363
    },
    "id": "O2V8AhGs2t72",
    "outputId": "31e82894-bde0-429f-d27a-7ccc8576a90e"
   },
   "outputs": [
    {
     "data": {
      "text/html": [
       "<div>\n",
       "<style scoped>\n",
       "    .dataframe tbody tr th:only-of-type {\n",
       "        vertical-align: middle;\n",
       "    }\n",
       "\n",
       "    .dataframe tbody tr th {\n",
       "        vertical-align: top;\n",
       "    }\n",
       "\n",
       "    .dataframe thead th {\n",
       "        text-align: right;\n",
       "    }\n",
       "</style>\n",
       "<table border=\"1\" class=\"dataframe\">\n",
       "  <thead>\n",
       "    <tr style=\"text-align: right;\">\n",
       "      <th></th>\n",
       "      <th>title</th>\n",
       "      <th>description</th>\n",
       "    </tr>\n",
       "  </thead>\n",
       "  <tbody>\n",
       "    <tr>\n",
       "      <th>0</th>\n",
       "      <td>Финансовый анализ</td>\n",
       "      <td>NaN</td>\n",
       "    </tr>\n",
       "    <tr>\n",
       "      <th>1</th>\n",
       "      <td>Финансовый менеджмент</td>\n",
       "      <td>NaN</td>\n",
       "    </tr>\n",
       "    <tr>\n",
       "      <th>2</th>\n",
       "      <td>Финансовые технологии</td>\n",
       "      <td>&lt;p&gt;&lt;br&gt;&lt;/p&gt;\\r\\n</td>\n",
       "    </tr>\n",
       "    <tr>\n",
       "      <th>3</th>\n",
       "      <td>Финансовые технологии</td>\n",
       "      <td>NaN</td>\n",
       "    </tr>\n",
       "    <tr>\n",
       "      <th>4</th>\n",
       "      <td>Финансовые рынки</td>\n",
       "      <td>NaN</td>\n",
       "    </tr>\n",
       "    <tr>\n",
       "      <th>5</th>\n",
       "      <td>Дизайн-мышление в инновационной деятельности</td>\n",
       "      <td>NaN</td>\n",
       "    </tr>\n",
       "    <tr>\n",
       "      <th>6</th>\n",
       "      <td>Электронная музыка Производство</td>\n",
       "      <td>NaN</td>\n",
       "    </tr>\n",
       "    <tr>\n",
       "      <th>7</th>\n",
       "      <td>Финансовый учет Основа</td>\n",
       "      <td>NaN</td>\n",
       "    </tr>\n",
       "    <tr>\n",
       "      <th>8</th>\n",
       "      <td>Финансовый учет: Основы</td>\n",
       "      <td>NaN</td>\n",
       "    </tr>\n",
       "    <tr>\n",
       "      <th>9</th>\n",
       "      <td>Тонкости верстки</td>\n",
       "      <td>NaN</td>\n",
       "    </tr>\n",
       "  </tbody>\n",
       "</table>\n",
       "</div>"
      ],
      "text/plain": [
       "                                          title      description\n",
       "0                             Финансовый анализ              NaN\n",
       "1                         Финансовый менеджмент              NaN\n",
       "2                         Финансовые технологии  <p><br></p>\\r\\n\n",
       "3                         Финансовые технологии              NaN\n",
       "4                              Финансовые рынки              NaN\n",
       "5  Дизайн-мышление в инновационной деятельности              NaN\n",
       "6               Электронная музыка Производство              NaN\n",
       "7                        Финансовый учет Основа              NaN\n",
       "8                       Финансовый учет: Основы              NaN\n",
       "9                              Тонкости верстки              NaN"
      ]
     },
     "execution_count": 83,
     "metadata": {},
     "output_type": "execute_result"
    }
   ],
   "source": [
    "model, tokenizer = ruBERT_load('ruBERT_threeway')\n",
    "all_embeddings = np.load('../embeddings/embeddings_ruBERT_threeway_preproc.npy')\n",
    "make_recomendation(all_embeddings, 'инженерное налогообложение', model, tokenizer, data, data_orig)"
   ]
  },
  {
   "cell_type": "code",
   "execution_count": 77,
   "metadata": {
    "colab": {
     "base_uri": "https://localhost:8080/",
     "height": 363
    },
    "id": "hyABfEAI5fQs",
    "outputId": "209f28ba-73f2-4093-ae52-5d646b9c5797"
   },
   "outputs": [
    {
     "data": {
      "text/html": [
       "<div>\n",
       "<style scoped>\n",
       "    .dataframe tbody tr th:only-of-type {\n",
       "        vertical-align: middle;\n",
       "    }\n",
       "\n",
       "    .dataframe tbody tr th {\n",
       "        vertical-align: top;\n",
       "    }\n",
       "\n",
       "    .dataframe thead th {\n",
       "        text-align: right;\n",
       "    }\n",
       "</style>\n",
       "<table border=\"1\" class=\"dataframe\">\n",
       "  <thead>\n",
       "    <tr style=\"text-align: right;\">\n",
       "      <th></th>\n",
       "      <th>title</th>\n",
       "      <th>description</th>\n",
       "    </tr>\n",
       "  </thead>\n",
       "  <tbody>\n",
       "    <tr>\n",
       "      <th>0</th>\n",
       "      <td>Электролиз медного купороса</td>\n",
       "      <td>NaN</td>\n",
       "    </tr>\n",
       "    <tr>\n",
       "      <th>1</th>\n",
       "      <td>Финансовый анализ</td>\n",
       "      <td>NaN</td>\n",
       "    </tr>\n",
       "    <tr>\n",
       "      <th>2</th>\n",
       "      <td>Динамическое Манипулирование: Вводная лекция 2</td>\n",
       "      <td></td>\n",
       "    </tr>\n",
       "    <tr>\n",
       "      <th>3</th>\n",
       "      <td>Слезивый котик и новый питомец))</td>\n",
       "      <td>Больше фотографий котика здесь: https://vk.com...</td>\n",
       "    </tr>\n",
       "    <tr>\n",
       "      <th>4</th>\n",
       "      <td>Машинное обучение Алгоритмы: Контролируемая об...</td>\n",
       "      <td>NaN</td>\n",
       "    </tr>\n",
       "    <tr>\n",
       "      <th>5</th>\n",
       "      <td>элон маск на страх</td>\n",
       "      <td>NaN</td>\n",
       "    </tr>\n",
       "    <tr>\n",
       "      <th>6</th>\n",
       "      <td>Формальный Финансовый учет</td>\n",
       "      <td>NaN</td>\n",
       "    </tr>\n",
       "    <tr>\n",
       "      <th>7</th>\n",
       "      <td>Финансовый отчет</td>\n",
       "      <td>NaN</td>\n",
       "    </tr>\n",
       "    <tr>\n",
       "      <th>8</th>\n",
       "      <td>байесовская статистика</td>\n",
       "      <td>NaN</td>\n",
       "    </tr>\n",
       "    <tr>\n",
       "      <th>9</th>\n",
       "      <td>Налоги и налогообложение: специальные налоговы...</td>\n",
       "      <td>NaN</td>\n",
       "    </tr>\n",
       "  </tbody>\n",
       "</table>\n",
       "</div>"
      ],
      "text/plain": [
       "                                               title                                        description\n",
       "0                        Электролиз медного купороса                                                NaN\n",
       "1                                  Финансовый анализ                                                NaN\n",
       "2     Динамическое Манипулирование: Вводная лекция 2                                                   \n",
       "3                   Слезивый котик и новый питомец))  Больше фотографий котика здесь: https://vk.com...\n",
       "4  Машинное обучение Алгоритмы: Контролируемая об...                                                NaN\n",
       "5                                 элон маск на страх                                                NaN\n",
       "6                         Формальный Финансовый учет                                                NaN\n",
       "7                                   Финансовый отчет                                                NaN\n",
       "8                             байесовская статистика                                                NaN\n",
       "9  Налоги и налогообложение: специальные налоговы...                                                NaN"
      ]
     },
     "execution_count": 77,
     "metadata": {},
     "output_type": "execute_result"
    }
   ],
   "source": [
    "model, tokenizer = ruBERT_load('ruBERT_tiny_bilingual')\n",
    "all_embeddings = np.load('../embeddings/embeddings_ruBERT_tiny_biling.npy')\n",
    "make_recomendation(all_embeddings, 'инженерное налогообложение', model, tokenizer, data, data_orig)"
   ]
  },
  {
   "cell_type": "code",
   "execution_count": 85,
   "metadata": {
    "colab": {
     "base_uri": "https://localhost:8080/",
     "height": 363
    },
    "id": "ex7J5FNi54hq",
    "outputId": "e156eac8-fa3d-441e-fcb3-de18d2dc91c1"
   },
   "outputs": [
    {
     "data": {
      "text/html": [
       "<div>\n",
       "<style scoped>\n",
       "    .dataframe tbody tr th:only-of-type {\n",
       "        vertical-align: middle;\n",
       "    }\n",
       "\n",
       "    .dataframe tbody tr th {\n",
       "        vertical-align: top;\n",
       "    }\n",
       "\n",
       "    .dataframe thead th {\n",
       "        text-align: right;\n",
       "    }\n",
       "</style>\n",
       "<table border=\"1\" class=\"dataframe\">\n",
       "  <thead>\n",
       "    <tr style=\"text-align: right;\">\n",
       "      <th></th>\n",
       "      <th>title</th>\n",
       "      <th>description</th>\n",
       "    </tr>\n",
       "  </thead>\n",
       "  <tbody>\n",
       "    <tr>\n",
       "      <th>0</th>\n",
       "      <td>Финансы для всех: Debt</td>\n",
       "      <td>NaN</td>\n",
       "    </tr>\n",
       "    <tr>\n",
       "      <th>1</th>\n",
       "      <td>Байесовская метода машинного обучения</td>\n",
       "      <td>NaN</td>\n",
       "    </tr>\n",
       "    <tr>\n",
       "      <th>2</th>\n",
       "      <td>Карьера, команда, инвестиции. Во что инвестиро...</td>\n",
       "      <td>&lt;p&gt;&lt;strong&gt;На митапе обсудим:&lt;/strong&gt;&lt;/p&gt;\\r\\n...</td>\n",
       "    </tr>\n",
       "    <tr>\n",
       "      <th>3</th>\n",
       "      <td>Налоги и налогообложение: специальные налоговы...</td>\n",
       "      <td>NaN</td>\n",
       "    </tr>\n",
       "    <tr>\n",
       "      <th>4</th>\n",
       "      <td>fintech - финансовые инновации</td>\n",
       "      <td>исследовать изменения, вызванные инновациями f...</td>\n",
       "    </tr>\n",
       "    <tr>\n",
       "      <th>5</th>\n",
       "      <td>Почему бесплатный аудит сайта это плохо</td>\n",
       "      <td>NaN</td>\n",
       "    </tr>\n",
       "    <tr>\n",
       "      <th>6</th>\n",
       "      <td>Методологические проблемы психологии</td>\n",
       "      <td>NaN</td>\n",
       "    </tr>\n",
       "    <tr>\n",
       "      <th>7</th>\n",
       "      <td>Налогообложение в Российской Федерации: основа...</td>\n",
       "      <td>NaN</td>\n",
       "    </tr>\n",
       "    <tr>\n",
       "      <th>8</th>\n",
       "      <td>Язык и инструменты финансового анализа</td>\n",
       "      <td>NaN</td>\n",
       "    </tr>\n",
       "    <tr>\n",
       "      <th>9</th>\n",
       "      <td>Scholarly связи</td>\n",
       "      <td>NaN</td>\n",
       "    </tr>\n",
       "  </tbody>\n",
       "</table>\n",
       "</div>"
      ],
      "text/plain": [
       "                                               title                                        description\n",
       "0                             Финансы для всех: Debt                                                NaN\n",
       "1              Байесовская метода машинного обучения                                                NaN\n",
       "2  Карьера, команда, инвестиции. Во что инвестиро...  <p><strong>На митапе обсудим:</strong></p>\\r\\n...\n",
       "3  Налоги и налогообложение: специальные налоговы...                                                NaN\n",
       "4                     fintech - финансовые инновации  исследовать изменения, вызванные инновациями f...\n",
       "5            Почему бесплатный аудит сайта это плохо                                                NaN\n",
       "6               Методологические проблемы психологии                                                NaN\n",
       "7  Налогообложение в Российской Федерации: основа...                                                NaN\n",
       "8             Язык и инструменты финансового анализа                                                NaN\n",
       "9                                    Scholarly связи                                                NaN"
      ]
     },
     "execution_count": 85,
     "metadata": {},
     "output_type": "execute_result"
    }
   ],
   "source": [
    "model, tokenizer = ruBERT_load('ruBERT_tiny_bilingual')\n",
    "all_embeddings = np.load('../embeddings/embeddings_ruBERT_tiny_biling_preproc.npy')\n",
    "make_recomendation(all_embeddings, 'инженерное налогообложение', model, tokenizer, data, data_orig)"
   ]
  },
  {
   "cell_type": "code",
   "execution_count": 87,
   "metadata": {
    "colab": {
     "base_uri": "https://localhost:8080/",
     "height": 380
    },
    "id": "2sKSvzKQPnus",
    "outputId": "81c2d00f-3303-4323-8619-756ff07d689f"
   },
   "outputs": [
    {
     "name": "stderr",
     "output_type": "stream",
     "text": [
      "Asking to truncate to max_length but no maximum length is provided and the model has no predefined maximum length. Default to no truncation.\n"
     ]
    },
    {
     "data": {
      "text/html": [
       "<div>\n",
       "<style scoped>\n",
       "    .dataframe tbody tr th:only-of-type {\n",
       "        vertical-align: middle;\n",
       "    }\n",
       "\n",
       "    .dataframe tbody tr th {\n",
       "        vertical-align: top;\n",
       "    }\n",
       "\n",
       "    .dataframe thead th {\n",
       "        text-align: right;\n",
       "    }\n",
       "</style>\n",
       "<table border=\"1\" class=\"dataframe\">\n",
       "  <thead>\n",
       "    <tr style=\"text-align: right;\">\n",
       "      <th></th>\n",
       "      <th>title</th>\n",
       "      <th>description</th>\n",
       "    </tr>\n",
       "  </thead>\n",
       "  <tbody>\n",
       "    <tr>\n",
       "      <th>0</th>\n",
       "      <td>Налоговое право (Tax law)</td>\n",
       "      <td>NaN</td>\n",
       "    </tr>\n",
       "    <tr>\n",
       "      <th>1</th>\n",
       "      <td>Машинное обучение в финансах</td>\n",
       "      <td>NaN</td>\n",
       "    </tr>\n",
       "    <tr>\n",
       "      <th>2</th>\n",
       "      <td>Бюджетирование и ценообразование в ДПО</td>\n",
       "      <td>NaN</td>\n",
       "    </tr>\n",
       "    <tr>\n",
       "      <th>3</th>\n",
       "      <td>Налоговое право</td>\n",
       "      <td>&lt;p&gt;&lt;br&gt;&lt;/p&gt;\\r\\n</td>\n",
       "    </tr>\n",
       "    <tr>\n",
       "      <th>4</th>\n",
       "      <td>Правовое обеспечение бизнеса в России</td>\n",
       "      <td>NaN</td>\n",
       "    </tr>\n",
       "    <tr>\n",
       "      <th>5</th>\n",
       "      <td>Финансовое планирование для молодых взрослых</td>\n",
       "      <td>NaN</td>\n",
       "    </tr>\n",
       "    <tr>\n",
       "      <th>6</th>\n",
       "      <td>Создание и управление активами</td>\n",
       "      <td>NaN</td>\n",
       "    </tr>\n",
       "    <tr>\n",
       "      <th>7</th>\n",
       "      <td>Международное управление портфелем</td>\n",
       "      <td>NaN</td>\n",
       "    </tr>\n",
       "    <tr>\n",
       "      <th>8</th>\n",
       "      <td>Юридическое оформление инвестиционных идей</td>\n",
       "      <td>NaN</td>\n",
       "    </tr>\n",
       "    <tr>\n",
       "      <th>9</th>\n",
       "      <td>Машинное обучение в бизнесе</td>\n",
       "      <td>NaN</td>\n",
       "    </tr>\n",
       "  </tbody>\n",
       "</table>\n",
       "</div>"
      ],
      "text/plain": [
       "                                          title      description\n",
       "0                     Налоговое право (Tax law)              NaN\n",
       "1                  Машинное обучение в финансах              NaN\n",
       "2        Бюджетирование и ценообразование в ДПО              NaN\n",
       "3                               Налоговое право  <p><br></p>\\r\\n\n",
       "4         Правовое обеспечение бизнеса в России              NaN\n",
       "5  Финансовое планирование для молодых взрослых              NaN\n",
       "6                Создание и управление активами              NaN\n",
       "7            Международное управление портфелем              NaN\n",
       "8    Юридическое оформление инвестиционных идей              NaN\n",
       "9                   Машинное обучение в бизнесе              NaN"
      ]
     },
     "execution_count": 87,
     "metadata": {},
     "output_type": "execute_result"
    }
   ],
   "source": [
    "model, tokenizer = ruBERT_load('ruBERT_base')\n",
    "all_embeddings = np.load('../embeddings/embeddings_ruBERT_base.npy')\n",
    "make_recomendation(all_embeddings, 'инженерное налогообложение', model, tokenizer, data, data_orig)"
   ]
  },
  {
   "cell_type": "code",
   "execution_count": 89,
   "metadata": {
    "colab": {
     "base_uri": "https://localhost:8080/",
     "height": 363
    },
    "id": "4_w6OH79Pn-q",
    "outputId": "8e7d5013-bfee-4144-cf4c-d447050f61f4"
   },
   "outputs": [
    {
     "data": {
      "text/html": [
       "<div>\n",
       "<style scoped>\n",
       "    .dataframe tbody tr th:only-of-type {\n",
       "        vertical-align: middle;\n",
       "    }\n",
       "\n",
       "    .dataframe tbody tr th {\n",
       "        vertical-align: top;\n",
       "    }\n",
       "\n",
       "    .dataframe thead th {\n",
       "        text-align: right;\n",
       "    }\n",
       "</style>\n",
       "<table border=\"1\" class=\"dataframe\">\n",
       "  <thead>\n",
       "    <tr style=\"text-align: right;\">\n",
       "      <th></th>\n",
       "      <th>title</th>\n",
       "      <th>description</th>\n",
       "    </tr>\n",
       "  </thead>\n",
       "  <tbody>\n",
       "    <tr>\n",
       "      <th>0</th>\n",
       "      <td>Финансовый менеджмент</td>\n",
       "      <td>NaN</td>\n",
       "    </tr>\n",
       "    <tr>\n",
       "      <th>1</th>\n",
       "      <td>Основы менеджмента</td>\n",
       "      <td>NaN</td>\n",
       "    </tr>\n",
       "    <tr>\n",
       "      <th>2</th>\n",
       "      <td>Основы менеджмента</td>\n",
       "      <td>NaN</td>\n",
       "    </tr>\n",
       "    <tr>\n",
       "      <th>3</th>\n",
       "      <td>Управление маркетингом я</td>\n",
       "      <td>NaN</td>\n",
       "    </tr>\n",
       "    <tr>\n",
       "      <th>4</th>\n",
       "      <td>Язык и инструменты финансового анализа</td>\n",
       "      <td>NaN</td>\n",
       "    </tr>\n",
       "    <tr>\n",
       "      <th>5</th>\n",
       "      <td>Территориальные механизмы поддержки для технол...</td>\n",
       "      <td>NaN</td>\n",
       "    </tr>\n",
       "    <tr>\n",
       "      <th>6</th>\n",
       "      <td>Финансовый анализ</td>\n",
       "      <td>NaN</td>\n",
       "    </tr>\n",
       "    <tr>\n",
       "      <th>7</th>\n",
       "      <td>Маркетинг в аналоговом мире</td>\n",
       "      <td>NaN</td>\n",
       "    </tr>\n",
       "    <tr>\n",
       "      <th>8</th>\n",
       "      <td>Контент Менеджмент</td>\n",
       "      <td>NaN</td>\n",
       "    </tr>\n",
       "    <tr>\n",
       "      <th>9</th>\n",
       "      <td>Анализ для бизнес-систем</td>\n",
       "      <td>NaN</td>\n",
       "    </tr>\n",
       "  </tbody>\n",
       "</table>\n",
       "</div>"
      ],
      "text/plain": [
       "                                               title description\n",
       "0                              Финансовый менеджмент         NaN\n",
       "1                                 Основы менеджмента         NaN\n",
       "2                                 Основы менеджмента         NaN\n",
       "3                           Управление маркетингом я         NaN\n",
       "4             Язык и инструменты финансового анализа         NaN\n",
       "5  Территориальные механизмы поддержки для технол...         NaN\n",
       "6                                  Финансовый анализ         NaN\n",
       "7                        Маркетинг в аналоговом мире         NaN\n",
       "8                                 Контент Менеджмент         NaN\n",
       "9                           Анализ для бизнес-систем         NaN"
      ]
     },
     "execution_count": 89,
     "metadata": {},
     "output_type": "execute_result"
    }
   ],
   "source": [
    "all_embeddings = np.load('../embeddings/embeddings_ruBERT_base_preproc.npy')\n",
    "make_recomendation(all_embeddings, 'инженерное налогообложение', model, tokenizer, data, data_orig)"
   ]
  },
  {
   "cell_type": "code",
   "execution_count": 91,
   "metadata": {
    "colab": {
     "base_uri": "https://localhost:8080/",
     "height": 363
    },
    "id": "L6AeFGH563ec",
    "outputId": "ffcb1f9f-3758-4fff-f9be-9adb1ef20cc7"
   },
   "outputs": [
    {
     "data": {
      "text/html": [
       "<div>\n",
       "<style scoped>\n",
       "    .dataframe tbody tr th:only-of-type {\n",
       "        vertical-align: middle;\n",
       "    }\n",
       "\n",
       "    .dataframe tbody tr th {\n",
       "        vertical-align: top;\n",
       "    }\n",
       "\n",
       "    .dataframe thead th {\n",
       "        text-align: right;\n",
       "    }\n",
       "</style>\n",
       "<table border=\"1\" class=\"dataframe\">\n",
       "  <thead>\n",
       "    <tr style=\"text-align: right;\">\n",
       "      <th></th>\n",
       "      <th>title</th>\n",
       "      <th>description</th>\n",
       "    </tr>\n",
       "  </thead>\n",
       "  <tbody>\n",
       "    <tr>\n",
       "      <th>0</th>\n",
       "      <td>Искусство налогового планирования</td>\n",
       "      <td>NaN</td>\n",
       "    </tr>\n",
       "    <tr>\n",
       "      <th>1</th>\n",
       "      <td>Формальный Финансовый учет</td>\n",
       "      <td>NaN</td>\n",
       "    </tr>\n",
       "    <tr>\n",
       "      <th>2</th>\n",
       "      <td>Институциональная экономика (Institutional eco...</td>\n",
       "      <td>NaN</td>\n",
       "    </tr>\n",
       "    <tr>\n",
       "      <th>3</th>\n",
       "      <td>Математическое моделирование в инженерных науках</td>\n",
       "      <td>NaN</td>\n",
       "    </tr>\n",
       "    <tr>\n",
       "      <th>4</th>\n",
       "      <td>Машинное обучение в финансах</td>\n",
       "      <td>NaN</td>\n",
       "    </tr>\n",
       "    <tr>\n",
       "      <th>5</th>\n",
       "      <td>Финансовый отчет</td>\n",
       "      <td>NaN</td>\n",
       "    </tr>\n",
       "    <tr>\n",
       "      <th>6</th>\n",
       "      <td>Введение в инженерные механик</td>\n",
       "      <td>NaN</td>\n",
       "    </tr>\n",
       "    <tr>\n",
       "      <th>7</th>\n",
       "      <td>Программная инженерия</td>\n",
       "      <td>NaN</td>\n",
       "    </tr>\n",
       "    <tr>\n",
       "      <th>8</th>\n",
       "      <td>Финансовый анализ</td>\n",
       "      <td>NaN</td>\n",
       "    </tr>\n",
       "    <tr>\n",
       "      <th>9</th>\n",
       "      <td>Применение в инженерной механики</td>\n",
       "      <td>NaN</td>\n",
       "    </tr>\n",
       "  </tbody>\n",
       "</table>\n",
       "</div>"
      ],
      "text/plain": [
       "                                               title description\n",
       "0                  Искусство налогового планирования         NaN\n",
       "1                         Формальный Финансовый учет         NaN\n",
       "2  Институциональная экономика (Institutional eco...         NaN\n",
       "3   Математическое моделирование в инженерных науках         NaN\n",
       "4                       Машинное обучение в финансах         NaN\n",
       "5                                   Финансовый отчет         NaN\n",
       "6                      Введение в инженерные механик         NaN\n",
       "7                              Программная инженерия         NaN\n",
       "8                                  Финансовый анализ         NaN\n",
       "9                   Применение в инженерной механики         NaN"
      ]
     },
     "execution_count": 91,
     "metadata": {},
     "output_type": "execute_result"
    }
   ],
   "source": [
    "model = LaBSE_load()\n",
    "model.to('cpu')\n",
    "all_embeddings = np.load('../embeddings/LaBSE.npy')\n",
    "make_labse_recomendation(all_embeddings, 'инженерное налогообложение', model, data, data_orig, number=10)"
   ]
  },
  {
   "cell_type": "code",
   "execution_count": 93,
   "metadata": {
    "colab": {
     "base_uri": "https://localhost:8080/",
     "height": 363
    },
    "id": "jjr3N5H28i4_",
    "outputId": "cbfb5518-eabc-4b51-8409-ab37b419d357"
   },
   "outputs": [
    {
     "data": {
      "text/html": [
       "<div>\n",
       "<style scoped>\n",
       "    .dataframe tbody tr th:only-of-type {\n",
       "        vertical-align: middle;\n",
       "    }\n",
       "\n",
       "    .dataframe tbody tr th {\n",
       "        vertical-align: top;\n",
       "    }\n",
       "\n",
       "    .dataframe thead th {\n",
       "        text-align: right;\n",
       "    }\n",
       "</style>\n",
       "<table border=\"1\" class=\"dataframe\">\n",
       "  <thead>\n",
       "    <tr style=\"text-align: right;\">\n",
       "      <th></th>\n",
       "      <th>title</th>\n",
       "      <th>description</th>\n",
       "    </tr>\n",
       "  </thead>\n",
       "  <tbody>\n",
       "    <tr>\n",
       "      <th>0</th>\n",
       "      <td>Основы бухгалтерского учета</td>\n",
       "      <td>NaN</td>\n",
       "    </tr>\n",
       "    <tr>\n",
       "      <th>1</th>\n",
       "      <td>Формальный Финансовый учет</td>\n",
       "      <td>NaN</td>\n",
       "    </tr>\n",
       "    <tr>\n",
       "      <th>2</th>\n",
       "      <td>Теория и практика эффективной коммуникации</td>\n",
       "      <td>NaN</td>\n",
       "    </tr>\n",
       "    <tr>\n",
       "      <th>3</th>\n",
       "      <td>Финансовые технологии</td>\n",
       "      <td>&lt;p&gt;&lt;br&gt;&lt;/p&gt;\\r\\n</td>\n",
       "    </tr>\n",
       "    <tr>\n",
       "      <th>4</th>\n",
       "      <td>Финансовые технологии</td>\n",
       "      <td>NaN</td>\n",
       "    </tr>\n",
       "    <tr>\n",
       "      <th>5</th>\n",
       "      <td>Учет и финансы для ИТ-специалистов</td>\n",
       "      <td>NaN</td>\n",
       "    </tr>\n",
       "    <tr>\n",
       "      <th>6</th>\n",
       "      <td>Анализ финансовой отчетности I: Роль бухгалтер...</td>\n",
       "      <td>NaN</td>\n",
       "    </tr>\n",
       "    <tr>\n",
       "      <th>7</th>\n",
       "      <td>Финансовый учет: Основы</td>\n",
       "      <td>NaN</td>\n",
       "    </tr>\n",
       "    <tr>\n",
       "      <th>8</th>\n",
       "      <td>Финансовый учет Основа</td>\n",
       "      <td>NaN</td>\n",
       "    </tr>\n",
       "    <tr>\n",
       "      <th>9</th>\n",
       "      <td>Управление проектами Инжиниринг</td>\n",
       "      <td>NaN</td>\n",
       "    </tr>\n",
       "  </tbody>\n",
       "</table>\n",
       "</div>"
      ],
      "text/plain": [
       "                                               title      description\n",
       "0                        Основы бухгалтерского учета              NaN\n",
       "1                         Формальный Финансовый учет              NaN\n",
       "2         Теория и практика эффективной коммуникации              NaN\n",
       "3                              Финансовые технологии  <p><br></p>\\r\\n\n",
       "4                              Финансовые технологии              NaN\n",
       "5                 Учет и финансы для ИТ-специалистов              NaN\n",
       "6  Анализ финансовой отчетности I: Роль бухгалтер...              NaN\n",
       "7                            Финансовый учет: Основы              NaN\n",
       "8                             Финансовый учет Основа              NaN\n",
       "9                    Управление проектами Инжиниринг              NaN"
      ]
     },
     "execution_count": 93,
     "metadata": {},
     "output_type": "execute_result"
    }
   ],
   "source": [
    "all_embeddings = np.load('../embeddings/LaBSE_preproc.npy')\n",
    "make_labse_recomendation(all_embeddings, 'инженерное налогообложение', model, data, data_orig, number=10)"
   ]
  },
  {
   "cell_type": "code",
   "execution_count": 94,
   "metadata": {
    "id": "fR4Pj1ttEp_g"
   },
   "outputs": [],
   "source": [
    "data_save =make_labse_recomendation(all_embeddings, 'инженерное налогообложение', model, data, data_orig, number=10)\n",
    "data_save.to_csv('LaBSE_preproc.csv')"
   ]
  },
  {
   "cell_type": "markdown",
   "metadata": {
    "id": "9SGD-x7QCm5h"
   },
   "source": [
    "### Другие примеры запросов"
   ]
  },
  {
   "cell_type": "code",
   "execution_count": 64,
   "metadata": {
    "colab": {
     "base_uri": "https://localhost:8080/",
     "height": 380
    },
    "id": "HOi6C5lDDgl2",
    "outputId": "e8337aa4-a085-4f08-adb0-1ee6b1e557ed"
   },
   "outputs": [
    {
     "name": "stderr",
     "output_type": "stream",
     "text": [
      "Asking to truncate to max_length but no maximum length is provided and the model has no predefined maximum length. Default to no truncation.\n"
     ]
    },
    {
     "data": {
      "text/html": [
       "<div>\n",
       "<style scoped>\n",
       "    .dataframe tbody tr th:only-of-type {\n",
       "        vertical-align: middle;\n",
       "    }\n",
       "\n",
       "    .dataframe tbody tr th {\n",
       "        vertical-align: top;\n",
       "    }\n",
       "\n",
       "    .dataframe thead th {\n",
       "        text-align: right;\n",
       "    }\n",
       "</style>\n",
       "<table border=\"1\" class=\"dataframe\">\n",
       "  <thead>\n",
       "    <tr style=\"text-align: right;\">\n",
       "      <th></th>\n",
       "      <th>title</th>\n",
       "      <th>description</th>\n",
       "    </tr>\n",
       "  </thead>\n",
       "  <tbody>\n",
       "    <tr>\n",
       "      <th>0</th>\n",
       "      <td>Как конфликт сделать прибыльным?</td>\n",
       "      <td>NaN</td>\n",
       "    </tr>\n",
       "    <tr>\n",
       "      <th>1</th>\n",
       "      <td>Как запустить зарубежные продажи не выходя из ...</td>\n",
       "      <td>NaN</td>\n",
       "    </tr>\n",
       "    <tr>\n",
       "      <th>2</th>\n",
       "      <td>Как выделиться на переполненном рынке</td>\n",
       "      <td>NaN</td>\n",
       "    </tr>\n",
       "    <tr>\n",
       "      <th>3</th>\n",
       "      <td>Как навести порядок в большом бизнесе с помощь...</td>\n",
       "      <td>NaN</td>\n",
       "    </tr>\n",
       "    <tr>\n",
       "      <th>4</th>\n",
       "      <td>Куда идти за инвестициями обычному предпринима...</td>\n",
       "      <td>NaN</td>\n",
       "    </tr>\n",
       "    <tr>\n",
       "      <th>5</th>\n",
       "      <td>Как начать свой бизнес</td>\n",
       "      <td>NaN</td>\n",
       "    </tr>\n",
       "    <tr>\n",
       "      <th>6</th>\n",
       "      <td>Как выбрать ментора?</td>\n",
       "      <td>NaN</td>\n",
       "    </tr>\n",
       "    <tr>\n",
       "      <th>7</th>\n",
       "      <td>Как оборудовать офис и не переплатить за железо</td>\n",
       "      <td>NaN</td>\n",
       "    </tr>\n",
       "    <tr>\n",
       "      <th>8</th>\n",
       "      <td>Как сдать PMP, не выходя из дома</td>\n",
       "      <td>NaN</td>\n",
       "    </tr>\n",
       "    <tr>\n",
       "      <th>9</th>\n",
       "      <td>Как сделать сделку с корпорацией и не прогореть</td>\n",
       "      <td>NaN</td>\n",
       "    </tr>\n",
       "  </tbody>\n",
       "</table>\n",
       "</div>"
      ],
      "text/plain": [
       "                                               title description\n",
       "0                   Как конфликт сделать прибыльным?         NaN\n",
       "1  Как запустить зарубежные продажи не выходя из ...         NaN\n",
       "2              Как выделиться на переполненном рынке         NaN\n",
       "3  Как навести порядок в большом бизнесе с помощь...         NaN\n",
       "4  Куда идти за инвестициями обычному предпринима...         NaN\n",
       "5                             Как начать свой бизнес         NaN\n",
       "6                               Как выбрать ментора?         NaN\n",
       "7    Как оборудовать офис и не переплатить за железо         NaN\n",
       "8                   Как сдать PMP, не выходя из дома         NaN\n",
       "9    Как сделать сделку с корпорацией и не прогореть         NaN"
      ]
     },
     "execution_count": 64,
     "metadata": {},
     "output_type": "execute_result"
    }
   ],
   "source": [
    "model, tokenizer = ruBERT_load('ruBERT_base')\n",
    "all_embeddings = np.load('../embeddings/embeddings_ruBERT_base.npy')\n",
    "make_recomendation(all_embeddings, 'Как заработать денег не напрягаясь', model, tokenizer, data, data_orig)"
   ]
  },
  {
   "cell_type": "code",
   "execution_count": 65,
   "metadata": {
    "colab": {
     "base_uri": "https://localhost:8080/",
     "height": 363
    },
    "id": "12zbi_W98yNr",
    "outputId": "06eea903-f3ed-4596-d9bc-5ad4a18e7a4b"
   },
   "outputs": [
    {
     "data": {
      "text/html": [
       "<div>\n",
       "<style scoped>\n",
       "    .dataframe tbody tr th:only-of-type {\n",
       "        vertical-align: middle;\n",
       "    }\n",
       "\n",
       "    .dataframe tbody tr th {\n",
       "        vertical-align: top;\n",
       "    }\n",
       "\n",
       "    .dataframe thead th {\n",
       "        text-align: right;\n",
       "    }\n",
       "</style>\n",
       "<table border=\"1\" class=\"dataframe\">\n",
       "  <thead>\n",
       "    <tr style=\"text-align: right;\">\n",
       "      <th></th>\n",
       "      <th>title</th>\n",
       "      <th>description</th>\n",
       "    </tr>\n",
       "  </thead>\n",
       "  <tbody>\n",
       "    <tr>\n",
       "      <th>0</th>\n",
       "      <td>Как начать свой бизнес</td>\n",
       "      <td>NaN</td>\n",
       "    </tr>\n",
       "    <tr>\n",
       "      <th>1</th>\n",
       "      <td>Как я выбираю акции в свой пенсионный портфель</td>\n",
       "      <td>NaN</td>\n",
       "    </tr>\n",
       "    <tr>\n",
       "      <th>2</th>\n",
       "      <td>Как построить бизнес в фармацевтике</td>\n",
       "      <td>NaN</td>\n",
       "    </tr>\n",
       "    <tr>\n",
       "      <th>3</th>\n",
       "      <td>Участие и Воспитывает стратегия маркетинга</td>\n",
       "      <td>NaN</td>\n",
       "    </tr>\n",
       "    <tr>\n",
       "      <th>4</th>\n",
       "      <td>ГеоДизайн: Изменить Ваш мир</td>\n",
       "      <td>NaN</td>\n",
       "    </tr>\n",
       "    <tr>\n",
       "      <th>5</th>\n",
       "      <td>Как вы привлекли своего первого клиента?</td>\n",
       "      <td>NaN</td>\n",
       "    </tr>\n",
       "    <tr>\n",
       "      <th>6</th>\n",
       "      <td>Как финансировать ваше предприятие?</td>\n",
       "      <td>NaN</td>\n",
       "    </tr>\n",
       "    <tr>\n",
       "      <th>7</th>\n",
       "      <td>Как меняется бизнес в условиях пандемии?</td>\n",
       "      <td>NaN</td>\n",
       "    </tr>\n",
       "    <tr>\n",
       "      <th>8</th>\n",
       "      <td>Как потребители воспринимают бренд?</td>\n",
       "      <td>NaN</td>\n",
       "    </tr>\n",
       "    <tr>\n",
       "      <th>9</th>\n",
       "      <td>Как проверить идею до того, как вложиться в ра...</td>\n",
       "      <td>NaN</td>\n",
       "    </tr>\n",
       "  </tbody>\n",
       "</table>\n",
       "</div>"
      ],
      "text/plain": [
       "                                               title description\n",
       "0                             Как начать свой бизнес         NaN\n",
       "1     Как я выбираю акции в свой пенсионный портфель         NaN\n",
       "2                Как построить бизнес в фармацевтике         NaN\n",
       "3         Участие и Воспитывает стратегия маркетинга         NaN\n",
       "4                        ГеоДизайн: Изменить Ваш мир         NaN\n",
       "5           Как вы привлекли своего первого клиента?         NaN\n",
       "6                Как финансировать ваше предприятие?         NaN\n",
       "7           Как меняется бизнес в условиях пандемии?         NaN\n",
       "8                Как потребители воспринимают бренд?         NaN\n",
       "9  Как проверить идею до того, как вложиться в ра...         NaN"
      ]
     },
     "execution_count": 65,
     "metadata": {},
     "output_type": "execute_result"
    }
   ],
   "source": [
    "all_embeddings = np.load('../embeddings/embeddings_ruBERT_base_preproc.npy')\n",
    "make_recomendation(all_embeddings, 'Как заработать денег не напрягаясь', model, tokenizer, data, data_orig)"
   ]
  },
  {
   "cell_type": "code",
   "execution_count": 66,
   "metadata": {
    "colab": {
     "base_uri": "https://localhost:8080/",
     "height": 363
    },
    "id": "UVyTgnTS8yNr",
    "outputId": "8c656110-8aac-4744-d870-cffe05fb5a2d"
   },
   "outputs": [
    {
     "data": {
      "text/html": [
       "<div>\n",
       "<style scoped>\n",
       "    .dataframe tbody tr th:only-of-type {\n",
       "        vertical-align: middle;\n",
       "    }\n",
       "\n",
       "    .dataframe tbody tr th {\n",
       "        vertical-align: top;\n",
       "    }\n",
       "\n",
       "    .dataframe thead th {\n",
       "        text-align: right;\n",
       "    }\n",
       "</style>\n",
       "<table border=\"1\" class=\"dataframe\">\n",
       "  <thead>\n",
       "    <tr style=\"text-align: right;\">\n",
       "      <th></th>\n",
       "      <th>title</th>\n",
       "      <th>description</th>\n",
       "    </tr>\n",
       "  </thead>\n",
       "  <tbody>\n",
       "    <tr>\n",
       "      <th>0</th>\n",
       "      <td>Как организовать работу дома с 2 детьми и не с...</td>\n",
       "      <td>NaN</td>\n",
       "    </tr>\n",
       "    <tr>\n",
       "      <th>1</th>\n",
       "      <td>Какой бизнес нужен Иннополису?</td>\n",
       "      <td>Кто может заработать на развитии будущей ИТ-ст...</td>\n",
       "    </tr>\n",
       "    <tr>\n",
       "      <th>2</th>\n",
       "      <td>Как запустить зарубежные продажи не выходя из ...</td>\n",
       "      <td>NaN</td>\n",
       "    </tr>\n",
       "    <tr>\n",
       "      <th>3</th>\n",
       "      <td>Разбор стратегии автомарафона  на 1 млн с запу...</td>\n",
       "      <td>NaN</td>\n",
       "    </tr>\n",
       "    <tr>\n",
       "      <th>4</th>\n",
       "      <td>Как стать участником проекта \"Сколково\"</td>\n",
       "      <td>NaN</td>\n",
       "    </tr>\n",
       "    <tr>\n",
       "      <th>5</th>\n",
       "      <td>Как повысить удержание на вебинаре до 85-90%</td>\n",
       "      <td>Личный опыт.</td>\n",
       "    </tr>\n",
       "    <tr>\n",
       "      <th>6</th>\n",
       "      <td>Как с помощью онлайн-консультанта увеличить за...</td>\n",
       "      <td>NaN</td>\n",
       "    </tr>\n",
       "    <tr>\n",
       "      <th>7</th>\n",
       "      <td>Кейс продвижения горчичного масла \"Горлинка\"</td>\n",
       "      <td>NaN</td>\n",
       "    </tr>\n",
       "    <tr>\n",
       "      <th>8</th>\n",
       "      <td>Бизнес-секреты \"Лед тронулся\"</td>\n",
       "      <td>NaN</td>\n",
       "    </tr>\n",
       "    <tr>\n",
       "      <th>9</th>\n",
       "      <td>«Аренда лофтов в Твери»: можно ли заработать н...</td>\n",
       "      <td>NaN</td>\n",
       "    </tr>\n",
       "  </tbody>\n",
       "</table>\n",
       "</div>"
      ],
      "text/plain": [
       "                                               title                                        description\n",
       "0  Как организовать работу дома с 2 детьми и не с...                                                NaN\n",
       "1                     Какой бизнес нужен Иннополису?  Кто может заработать на развитии будущей ИТ-ст...\n",
       "2  Как запустить зарубежные продажи не выходя из ...                                                NaN\n",
       "3  Разбор стратегии автомарафона  на 1 млн с запу...                                                NaN\n",
       "4            Как стать участником проекта \"Сколково\"                                                NaN\n",
       "5       Как повысить удержание на вебинаре до 85-90%                                       Личный опыт.\n",
       "6  Как с помощью онлайн-консультанта увеличить за...                                                NaN\n",
       "7       Кейс продвижения горчичного масла \"Горлинка\"                                                NaN\n",
       "8                      Бизнес-секреты \"Лед тронулся\"                                                NaN\n",
       "9  «Аренда лофтов в Твери»: можно ли заработать н...                                                NaN"
      ]
     },
     "execution_count": 66,
     "metadata": {},
     "output_type": "execute_result"
    }
   ],
   "source": [
    "model, tokenizer = ruBERT_load('ruBERT_threeway')\n",
    "all_embeddings = np.load('../embeddings/embeddings_ruBERT_threeway.npy')\n",
    "make_recomendation(all_embeddings, 'Как заработать денег не напрягаясь', model, tokenizer, data, data_orig)"
   ]
  },
  {
   "cell_type": "code",
   "execution_count": 67,
   "metadata": {
    "colab": {
     "base_uri": "https://localhost:8080/",
     "height": 380
    },
    "id": "3hxKxEsD8yNr",
    "outputId": "efd113a6-057e-47a3-9106-6bffec8d110f"
   },
   "outputs": [
    {
     "name": "stderr",
     "output_type": "stream",
     "text": [
      "Asking to truncate to max_length but no maximum length is provided and the model has no predefined maximum length. Default to no truncation.\n"
     ]
    },
    {
     "data": {
      "text/html": [
       "<div>\n",
       "<style scoped>\n",
       "    .dataframe tbody tr th:only-of-type {\n",
       "        vertical-align: middle;\n",
       "    }\n",
       "\n",
       "    .dataframe tbody tr th {\n",
       "        vertical-align: top;\n",
       "    }\n",
       "\n",
       "    .dataframe thead th {\n",
       "        text-align: right;\n",
       "    }\n",
       "</style>\n",
       "<table border=\"1\" class=\"dataframe\">\n",
       "  <thead>\n",
       "    <tr style=\"text-align: right;\">\n",
       "      <th></th>\n",
       "      <th>title</th>\n",
       "      <th>description</th>\n",
       "    </tr>\n",
       "  </thead>\n",
       "  <tbody>\n",
       "    <tr>\n",
       "      <th>0</th>\n",
       "      <td>Линейная алгебра: от идеи к формуле</td>\n",
       "      <td>NaN</td>\n",
       "    </tr>\n",
       "    <tr>\n",
       "      <th>1</th>\n",
       "      <td>Последовательность моделей для временных рядов...</td>\n",
       "      <td>NaN</td>\n",
       "    </tr>\n",
       "    <tr>\n",
       "      <th>2</th>\n",
       "      <td>Применение производной и интеграла в курсе общ...</td>\n",
       "      <td>NaN</td>\n",
       "    </tr>\n",
       "    <tr>\n",
       "      <th>3</th>\n",
       "      <td>введение в дискретной математике</td>\n",
       "      <td>в этом курсе, посвященном основам математики, ...</td>\n",
       "    </tr>\n",
       "    <tr>\n",
       "      <th>4</th>\n",
       "      <td>Смешанные линейные модели</td>\n",
       "      <td>NaN</td>\n",
       "    </tr>\n",
       "    <tr>\n",
       "      <th>5</th>\n",
       "      <td>Как сделать гипотезы связующим звеном для всех...</td>\n",
       "      <td>NaN</td>\n",
       "    </tr>\n",
       "    <tr>\n",
       "      <th>6</th>\n",
       "      <td>Практический анализ временных рядов</td>\n",
       "      <td>NaN</td>\n",
       "    </tr>\n",
       "    <tr>\n",
       "      <th>7</th>\n",
       "      <td>SQL для науки данных</td>\n",
       "      <td>NaN</td>\n",
       "    </tr>\n",
       "    <tr>\n",
       "      <th>8</th>\n",
       "      <td>Обучение на размеченных данных</td>\n",
       "      <td>NaN</td>\n",
       "    </tr>\n",
       "    <tr>\n",
       "      <th>9</th>\n",
       "      <td>Абстракция, проблема декомпозиции, и функции</td>\n",
       "      <td>NaN</td>\n",
       "    </tr>\n",
       "  </tbody>\n",
       "</table>\n",
       "</div>"
      ],
      "text/plain": [
       "                                               title                                        description\n",
       "0                Линейная алгебра: от идеи к формуле                                                NaN\n",
       "1  Последовательность моделей для временных рядов...                                                NaN\n",
       "2  Применение производной и интеграла в курсе общ...                                                NaN\n",
       "3                   введение в дискретной математике  в этом курсе, посвященном основам математики, ...\n",
       "4                          Смешанные линейные модели                                                NaN\n",
       "5  Как сделать гипотезы связующим звеном для всех...                                                NaN\n",
       "6                Практический анализ временных рядов                                                NaN\n",
       "7                               SQL для науки данных                                                NaN\n",
       "8                     Обучение на размеченных данных                                                NaN\n",
       "9       Абстракция, проблема декомпозиции, и функции                                                NaN"
      ]
     },
     "execution_count": 67,
     "metadata": {},
     "output_type": "execute_result"
    }
   ],
   "source": [
    "model, tokenizer = ruBERT_load('ruBERT_base')\n",
    "all_embeddings = np.load('../embeddings/embeddings_ruBERT_base.npy')\n",
    "make_recomendation(all_embeddings, 'изучить линейную алгебру', model, tokenizer, data, data_orig)"
   ]
  },
  {
   "cell_type": "code",
   "execution_count": 68,
   "metadata": {
    "colab": {
     "base_uri": "https://localhost:8080/",
     "height": 363
    },
    "id": "bIfevGyW8yNs",
    "outputId": "f3271fb0-161f-44fe-a389-b48113d99dca"
   },
   "outputs": [
    {
     "data": {
      "text/html": [
       "<div>\n",
       "<style scoped>\n",
       "    .dataframe tbody tr th:only-of-type {\n",
       "        vertical-align: middle;\n",
       "    }\n",
       "\n",
       "    .dataframe tbody tr th {\n",
       "        vertical-align: top;\n",
       "    }\n",
       "\n",
       "    .dataframe thead th {\n",
       "        text-align: right;\n",
       "    }\n",
       "</style>\n",
       "<table border=\"1\" class=\"dataframe\">\n",
       "  <thead>\n",
       "    <tr style=\"text-align: right;\">\n",
       "      <th></th>\n",
       "      <th>title</th>\n",
       "      <th>description</th>\n",
       "    </tr>\n",
       "  </thead>\n",
       "  <tbody>\n",
       "    <tr>\n",
       "      <th>0</th>\n",
       "      <td>Матрица Алгебра для инженеров</td>\n",
       "      <td>NaN</td>\n",
       "    </tr>\n",
       "    <tr>\n",
       "      <th>1</th>\n",
       "      <td>Алгоритмы программирования и структуры данных</td>\n",
       "      <td>&lt;p&gt;&lt;br&gt;&lt;/p&gt;\\r\\n</td>\n",
       "    </tr>\n",
       "    <tr>\n",
       "      <th>2</th>\n",
       "      <td>Вектор Исчисление для инженеров</td>\n",
       "      <td>NaN</td>\n",
       "    </tr>\n",
       "    <tr>\n",
       "      <th>3</th>\n",
       "      <td>Усовершенствованные алгоритмы и сложность</td>\n",
       "      <td>NaN</td>\n",
       "    </tr>\n",
       "    <tr>\n",
       "      <th>4</th>\n",
       "      <td>Сети Иллюстрированные: Принципы без Исчисление</td>\n",
       "      <td>NaN</td>\n",
       "    </tr>\n",
       "    <tr>\n",
       "      <th>5</th>\n",
       "      <td>Основы программирования на R</td>\n",
       "      <td>&lt;p&gt;&lt;br&gt;&lt;/p&gt;\\r\\n</td>\n",
       "    </tr>\n",
       "    <tr>\n",
       "      <th>6</th>\n",
       "      <td>Введение в перечислительной комбинаторики</td>\n",
       "      <td>NaN</td>\n",
       "    </tr>\n",
       "    <tr>\n",
       "      <th>7</th>\n",
       "      <td>Основы программирования на C. Задачи.</td>\n",
       "      <td>NaN</td>\n",
       "    </tr>\n",
       "    <tr>\n",
       "      <th>8</th>\n",
       "      <td>Моделирование, анализ алгоритма и указатели</td>\n",
       "      <td>NaN</td>\n",
       "    </tr>\n",
       "    <tr>\n",
       "      <th>9</th>\n",
       "      <td>Шесть Сигма Расширенный анализ Фазу</td>\n",
       "      <td>NaN</td>\n",
       "    </tr>\n",
       "  </tbody>\n",
       "</table>\n",
       "</div>"
      ],
      "text/plain": [
       "                                            title      description\n",
       "0                   Матрица Алгебра для инженеров              NaN\n",
       "1   Алгоритмы программирования и структуры данных  <p><br></p>\\r\\n\n",
       "2                 Вектор Исчисление для инженеров              NaN\n",
       "3       Усовершенствованные алгоритмы и сложность              NaN\n",
       "4  Сети Иллюстрированные: Принципы без Исчисление              NaN\n",
       "5                    Основы программирования на R  <p><br></p>\\r\\n\n",
       "6       Введение в перечислительной комбинаторики              NaN\n",
       "7           Основы программирования на C. Задачи.              NaN\n",
       "8     Моделирование, анализ алгоритма и указатели              NaN\n",
       "9             Шесть Сигма Расширенный анализ Фазу              NaN"
      ]
     },
     "execution_count": 68,
     "metadata": {},
     "output_type": "execute_result"
    }
   ],
   "source": [
    "all_embeddings = np.load('../embeddings/embeddings_ruBERT_base_preproc.npy')\n",
    "make_recomendation(all_embeddings, 'изучить линейную алгебру', model, tokenizer, data, data_orig)"
   ]
  },
  {
   "cell_type": "code",
   "execution_count": 69,
   "metadata": {
    "colab": {
     "base_uri": "https://localhost:8080/",
     "height": 363
    },
    "id": "IIT-iyCY8yNs",
    "outputId": "a70af5ad-4271-4124-b482-2779da63ee60"
   },
   "outputs": [
    {
     "data": {
      "text/html": [
       "<div>\n",
       "<style scoped>\n",
       "    .dataframe tbody tr th:only-of-type {\n",
       "        vertical-align: middle;\n",
       "    }\n",
       "\n",
       "    .dataframe tbody tr th {\n",
       "        vertical-align: top;\n",
       "    }\n",
       "\n",
       "    .dataframe thead th {\n",
       "        text-align: right;\n",
       "    }\n",
       "</style>\n",
       "<table border=\"1\" class=\"dataframe\">\n",
       "  <thead>\n",
       "    <tr style=\"text-align: right;\">\n",
       "      <th></th>\n",
       "      <th>title</th>\n",
       "      <th>description</th>\n",
       "    </tr>\n",
       "  </thead>\n",
       "  <tbody>\n",
       "    <tr>\n",
       "      <th>0</th>\n",
       "      <td>Оценить дизайн</td>\n",
       "      <td>Уважаемые коллеги!</td>\n",
       "    </tr>\n",
       "    <tr>\n",
       "      <th>1</th>\n",
       "      <td>Просто о статистике (с использованием R)</td>\n",
       "      <td>NaN</td>\n",
       "    </tr>\n",
       "    <tr>\n",
       "      <th>2</th>\n",
       "      <td>Знакомимся с основами HubSpot</td>\n",
       "      <td>NaN</td>\n",
       "    </tr>\n",
       "    <tr>\n",
       "      <th>3</th>\n",
       "      <td>Более общее преобразование Лоренца</td>\n",
       "      <td>NaN</td>\n",
       "    </tr>\n",
       "    <tr>\n",
       "      <th>4</th>\n",
       "      <td>Подумайте снова я: Как понять аргументы</td>\n",
       "      <td>NaN</td>\n",
       "    </tr>\n",
       "    <tr>\n",
       "      <th>5</th>\n",
       "      <td>Добро пожаловать в теории игр</td>\n",
       "      <td>NaN</td>\n",
       "    </tr>\n",
       "    <tr>\n",
       "      <th>6</th>\n",
       "      <td>Секреты принятия правильных решений в условиях...</td>\n",
       "      <td>NaN</td>\n",
       "    </tr>\n",
       "    <tr>\n",
       "      <th>7</th>\n",
       "      <td>Подумайте еще раз II: Как Причина дедуктивным</td>\n",
       "      <td>NaN</td>\n",
       "    </tr>\n",
       "    <tr>\n",
       "      <th>8</th>\n",
       "      <td>Аппроксимация алгоритмы Часть I</td>\n",
       "      <td>NaN</td>\n",
       "    </tr>\n",
       "    <tr>\n",
       "      <th>9</th>\n",
       "      <td>Шесть Сигма Расширенный определения и измерени...</td>\n",
       "      <td>NaN</td>\n",
       "    </tr>\n",
       "  </tbody>\n",
       "</table>\n",
       "</div>"
      ],
      "text/plain": [
       "                                               title         description\n",
       "0                                     Оценить дизайн  Уважаемые коллеги!\n",
       "1           Просто о статистике (с использованием R)                 NaN\n",
       "2                      Знакомимся с основами HubSpot                 NaN\n",
       "3                 Более общее преобразование Лоренца                 NaN\n",
       "4            Подумайте снова я: Как понять аргументы                 NaN\n",
       "5                      Добро пожаловать в теории игр                 NaN\n",
       "6  Секреты принятия правильных решений в условиях...                 NaN\n",
       "7      Подумайте еще раз II: Как Причина дедуктивным                 NaN\n",
       "8                    Аппроксимация алгоритмы Часть I                 NaN\n",
       "9  Шесть Сигма Расширенный определения и измерени...                 NaN"
      ]
     },
     "execution_count": 69,
     "metadata": {},
     "output_type": "execute_result"
    }
   ],
   "source": [
    "model, tokenizer = ruBERT_load('ruBERT_threeway')\n",
    "all_embeddings = np.load('../embeddings/embeddings_ruBERT_threeway.npy')\n",
    "make_recomendation(all_embeddings, 'изучить линейную алгебру', model, tokenizer, data, data_orig)"
   ]
  },
  {
   "cell_type": "code",
   "execution_count": 70,
   "metadata": {
    "colab": {
     "base_uri": "https://localhost:8080/",
     "height": 380
    },
    "id": "whOPBz_p8yNs",
    "outputId": "2a380d9f-7656-4120-e85d-e9de43d38ea5"
   },
   "outputs": [
    {
     "name": "stderr",
     "output_type": "stream",
     "text": [
      "Asking to truncate to max_length but no maximum length is provided and the model has no predefined maximum length. Default to no truncation.\n"
     ]
    },
    {
     "data": {
      "text/html": [
       "<div>\n",
       "<style scoped>\n",
       "    .dataframe tbody tr th:only-of-type {\n",
       "        vertical-align: middle;\n",
       "    }\n",
       "\n",
       "    .dataframe tbody tr th {\n",
       "        vertical-align: top;\n",
       "    }\n",
       "\n",
       "    .dataframe thead th {\n",
       "        text-align: right;\n",
       "    }\n",
       "</style>\n",
       "<table border=\"1\" class=\"dataframe\">\n",
       "  <thead>\n",
       "    <tr style=\"text-align: right;\">\n",
       "      <th></th>\n",
       "      <th>title</th>\n",
       "      <th>description</th>\n",
       "    </tr>\n",
       "  </thead>\n",
       "  <tbody>\n",
       "    <tr>\n",
       "      <th>0</th>\n",
       "      <td>Что посмотреть, почитать и послушать для опера...</td>\n",
       "      <td>NaN</td>\n",
       "    </tr>\n",
       "    <tr>\n",
       "      <th>1</th>\n",
       "      <td>Как относиться к жизни</td>\n",
       "      <td>NaN</td>\n",
       "    </tr>\n",
       "    <tr>\n",
       "      <th>2</th>\n",
       "      <td>Что нужно делать, чтобы не выгореть</td>\n",
       "      <td>NaN</td>\n",
       "    </tr>\n",
       "    <tr>\n",
       "      <th>3</th>\n",
       "      <td>Как оборудовать офис и не переплатить за железо</td>\n",
       "      <td>NaN</td>\n",
       "    </tr>\n",
       "    <tr>\n",
       "      <th>4</th>\n",
       "      <td>Как начать свой бизнес</td>\n",
       "      <td>NaN</td>\n",
       "    </tr>\n",
       "    <tr>\n",
       "      <th>5</th>\n",
       "      <td>Что почитать, когда только собираешься по пути...</td>\n",
       "      <td>Здравствуйте, человеки.</td>\n",
       "    </tr>\n",
       "    <tr>\n",
       "      <th>6</th>\n",
       "      <td>Как читать фотографию</td>\n",
       "      <td>NaN</td>\n",
       "    </tr>\n",
       "    <tr>\n",
       "      <th>7</th>\n",
       "      <td>Как проверить вашу идею запуска</td>\n",
       "      <td>NaN</td>\n",
       "    </tr>\n",
       "    <tr>\n",
       "      <th>8</th>\n",
       "      <td>Просто про страхование</td>\n",
       "      <td>NaN</td>\n",
       "    </tr>\n",
       "    <tr>\n",
       "      <th>9</th>\n",
       "      <td>Как сдать PMP, не выходя из дома</td>\n",
       "      <td>NaN</td>\n",
       "    </tr>\n",
       "  </tbody>\n",
       "</table>\n",
       "</div>"
      ],
      "text/plain": [
       "                                               title              description\n",
       "0  Что посмотреть, почитать и послушать для опера...                      NaN\n",
       "1                             Как относиться к жизни                      NaN\n",
       "2                Что нужно делать, чтобы не выгореть                      NaN\n",
       "3    Как оборудовать офис и не переплатить за железо                      NaN\n",
       "4                             Как начать свой бизнес                      NaN\n",
       "5  Что почитать, когда только собираешься по пути...  Здравствуйте, человеки.\n",
       "6                              Как читать фотографию                      NaN\n",
       "7                    Как проверить вашу идею запуска                      NaN\n",
       "8                             Просто про страхование                      NaN\n",
       "9                   Как сдать PMP, не выходя из дома                      NaN"
      ]
     },
     "execution_count": 70,
     "metadata": {},
     "output_type": "execute_result"
    }
   ],
   "source": [
    "model, tokenizer = ruBERT_load('ruBERT_base')\n",
    "all_embeddings = np.load('../embeddings/embeddings_ruBERT_base.npy')\n",
    "make_recomendation(all_embeddings, 'что бы почитать', model, tokenizer, data, data_orig)"
   ]
  },
  {
   "cell_type": "code",
   "execution_count": 71,
   "metadata": {
    "colab": {
     "base_uri": "https://localhost:8080/",
     "height": 363
    },
    "id": "Jxcv7zeJ8yNs",
    "outputId": "4eb9d701-371a-49e2-ae6d-a0c44b9ac80a"
   },
   "outputs": [
    {
     "data": {
      "text/html": [
       "<div>\n",
       "<style scoped>\n",
       "    .dataframe tbody tr th:only-of-type {\n",
       "        vertical-align: middle;\n",
       "    }\n",
       "\n",
       "    .dataframe tbody tr th {\n",
       "        vertical-align: top;\n",
       "    }\n",
       "\n",
       "    .dataframe thead th {\n",
       "        text-align: right;\n",
       "    }\n",
       "</style>\n",
       "<table border=\"1\" class=\"dataframe\">\n",
       "  <thead>\n",
       "    <tr style=\"text-align: right;\">\n",
       "      <th></th>\n",
       "      <th>title</th>\n",
       "      <th>description</th>\n",
       "    </tr>\n",
       "  </thead>\n",
       "  <tbody>\n",
       "    <tr>\n",
       "      <th>0</th>\n",
       "      <td>Читали? Что полезного вынесли?</td>\n",
       "      <td>NaN</td>\n",
       "    </tr>\n",
       "    <tr>\n",
       "      <th>1</th>\n",
       "      <td>Как читать фотографию</td>\n",
       "      <td>NaN</td>\n",
       "    </tr>\n",
       "    <tr>\n",
       "      <th>2</th>\n",
       "      <td>Хорошо, отдыхай</td>\n",
       "      <td>NaN</td>\n",
       "    </tr>\n",
       "    <tr>\n",
       "      <th>3</th>\n",
       "      <td>Подумайте снова я: Как понять аргументы</td>\n",
       "      <td>NaN</td>\n",
       "    </tr>\n",
       "    <tr>\n",
       "      <th>4</th>\n",
       "      <td>Где живет интернет? (Фото)</td>\n",
       "      <td>NaN</td>\n",
       "    </tr>\n",
       "    <tr>\n",
       "      <th>5</th>\n",
       "      <td>Что такое современное искусство?</td>\n",
       "      <td>NaN</td>\n",
       "    </tr>\n",
       "    <tr>\n",
       "      <th>6</th>\n",
       "      <td>Как проверить идею до того, как вложиться в ра...</td>\n",
       "      <td>NaN</td>\n",
       "    </tr>\n",
       "    <tr>\n",
       "      <th>7</th>\n",
       "      <td>Как меняется бизнес в условиях пандемии?</td>\n",
       "      <td>NaN</td>\n",
       "    </tr>\n",
       "    <tr>\n",
       "      <th>8</th>\n",
       "      <td>Сколько стоит подождать</td>\n",
       "      <td>NaN</td>\n",
       "    </tr>\n",
       "    <tr>\n",
       "      <th>9</th>\n",
       "      <td>Серия 3. «Чем делать?»</td>\n",
       "      <td>NaN</td>\n",
       "    </tr>\n",
       "  </tbody>\n",
       "</table>\n",
       "</div>"
      ],
      "text/plain": [
       "                                               title description\n",
       "0                     Читали? Что полезного вынесли?         NaN\n",
       "1                              Как читать фотографию         NaN\n",
       "2                                    Хорошо, отдыхай         NaN\n",
       "3            Подумайте снова я: Как понять аргументы         NaN\n",
       "4                         Где живет интернет? (Фото)         NaN\n",
       "5                   Что такое современное искусство?         NaN\n",
       "6  Как проверить идею до того, как вложиться в ра...         NaN\n",
       "7           Как меняется бизнес в условиях пандемии?         NaN\n",
       "8                            Сколько стоит подождать         NaN\n",
       "9                            Серия 3. «Чем делать?»          NaN"
      ]
     },
     "execution_count": 71,
     "metadata": {},
     "output_type": "execute_result"
    }
   ],
   "source": [
    "all_embeddings = np.load('../embeddings/embeddings_ruBERT_base_preproc.npy')\n",
    "make_recomendation(all_embeddings, 'что бы почитать', model, tokenizer, data, data_orig)"
   ]
  },
  {
   "cell_type": "code",
   "execution_count": 72,
   "metadata": {
    "colab": {
     "base_uri": "https://localhost:8080/",
     "height": 363
    },
    "id": "8389dTCL8yNt",
    "outputId": "7c34f502-d610-408e-b463-d68778ce5e90"
   },
   "outputs": [
    {
     "data": {
      "text/html": [
       "<div>\n",
       "<style scoped>\n",
       "    .dataframe tbody tr th:only-of-type {\n",
       "        vertical-align: middle;\n",
       "    }\n",
       "\n",
       "    .dataframe tbody tr th {\n",
       "        vertical-align: top;\n",
       "    }\n",
       "\n",
       "    .dataframe thead th {\n",
       "        text-align: right;\n",
       "    }\n",
       "</style>\n",
       "<table border=\"1\" class=\"dataframe\">\n",
       "  <thead>\n",
       "    <tr style=\"text-align: right;\">\n",
       "      <th></th>\n",
       "      <th>title</th>\n",
       "      <th>description</th>\n",
       "    </tr>\n",
       "  </thead>\n",
       "  <tbody>\n",
       "    <tr>\n",
       "      <th>0</th>\n",
       "      <td>Что за подсайт?</td>\n",
       "      <td>NaN</td>\n",
       "    </tr>\n",
       "    <tr>\n",
       "      <th>1</th>\n",
       "      <td>Баг с галочкой</td>\n",
       "      <td>Здравствуйте.</td>\n",
       "    </tr>\n",
       "    <tr>\n",
       "      <th>2</th>\n",
       "      <td>Введение в С++</td>\n",
       "      <td>NaN</td>\n",
       "    </tr>\n",
       "    <tr>\n",
       "      <th>3</th>\n",
       "      <td>Что за зверь?</td>\n",
       "      <td>NaN</td>\n",
       "    </tr>\n",
       "    <tr>\n",
       "      <th>4</th>\n",
       "      <td>Кайботт, \"Паркетчики\"</td>\n",
       "      <td>Caillebotte, The Floor Scrapers</td>\n",
       "    </tr>\n",
       "    <tr>\n",
       "      <th>5</th>\n",
       "      <td>Бизнес-секреты \"Лед тронулся\"</td>\n",
       "      <td>NaN</td>\n",
       "    </tr>\n",
       "    <tr>\n",
       "      <th>6</th>\n",
       "      <td>Ключи от Доброго Углича</td>\n",
       "      <td>NaN</td>\n",
       "    </tr>\n",
       "    <tr>\n",
       "      <th>7</th>\n",
       "      <td>Что нового?</td>\n",
       "      <td>NaN</td>\n",
       "    </tr>\n",
       "    <tr>\n",
       "      <th>8</th>\n",
       "      <td>Какой бизнес нужен Иннополису?</td>\n",
       "      <td>Кто может заработать на развитии будущей ИТ-ст...</td>\n",
       "    </tr>\n",
       "    <tr>\n",
       "      <th>9</th>\n",
       "      <td>Кайботт, \"Мужчина в ванной\"</td>\n",
       "      <td>Caillebotte, Man at his Bath</td>\n",
       "    </tr>\n",
       "  </tbody>\n",
       "</table>\n",
       "</div>"
      ],
      "text/plain": [
       "                            title                                        description\n",
       "0                 Что за подсайт?                                                NaN\n",
       "1                  Баг с галочкой                                      Здравствуйте.\n",
       "2                  Введение в С++                                                NaN\n",
       "3                   Что за зверь?                                                NaN\n",
       "4           Кайботт, \"Паркетчики\"                    Caillebotte, The Floor Scrapers\n",
       "5   Бизнес-секреты \"Лед тронулся\"                                                NaN\n",
       "6         Ключи от Доброго Углича                                                NaN\n",
       "7                     Что нового?                                                NaN\n",
       "8  Какой бизнес нужен Иннополису?  Кто может заработать на развитии будущей ИТ-ст...\n",
       "9     Кайботт, \"Мужчина в ванной\"                       Caillebotte, Man at his Bath"
      ]
     },
     "execution_count": 72,
     "metadata": {},
     "output_type": "execute_result"
    }
   ],
   "source": [
    "model, tokenizer = ruBERT_load('ruBERT_threeway')\n",
    "all_embeddings = np.load('../embeddings/embeddings_ruBERT_threeway.npy')\n",
    "make_recomendation(all_embeddings, 'что бы почитать', model, tokenizer, data, data_orig)"
   ]
  },
  {
   "cell_type": "code",
   "execution_count": null,
   "metadata": {},
   "outputs": [],
   "source": []
  }
 ],
 "metadata": {
  "accelerator": "GPU",
  "colab": {
   "collapsed_sections": [
    "v9GcRr7ZvcmM"
   ],
   "name": "specific_cleaning.ipynb",
   "provenance": []
  },
  "kernelspec": {
   "display_name": "Python 3",
   "language": "python",
   "name": "python3"
  },
  "language_info": {
   "codemirror_mode": {
    "name": "ipython",
    "version": 3
   },
   "file_extension": ".py",
   "mimetype": "text/x-python",
   "name": "python",
   "nbconvert_exporter": "python",
   "pygments_lexer": "ipython3",
   "version": "3.8.3"
  }
 },
 "nbformat": 4,
 "nbformat_minor": 1
}
